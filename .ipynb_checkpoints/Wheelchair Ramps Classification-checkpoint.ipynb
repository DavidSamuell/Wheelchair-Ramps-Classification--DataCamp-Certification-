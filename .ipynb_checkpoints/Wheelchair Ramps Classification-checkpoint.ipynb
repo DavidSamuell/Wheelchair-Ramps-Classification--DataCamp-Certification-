{
 "cells": [
  {
   "cell_type": "markdown",
   "id": "homeless-quality",
   "metadata": {
    "id": "bA5ajAmk7XH6"
   },
   "source": [
    "# DataCamp Certification Case Study\n",
    "\n",
    "### Project Brief\n",
    "\n",
    "Congratulations, you have landed your first job as a data scientist at National Accessibility! National Accessibility currently installs wheelchair ramps for office buildings and schools. However, the marketing manager wants the company to start installing ramps for event venues as well. According to a new survey, approximately 40% of event venues are not wheelchair accessible. However, it is not easy to know whether a venue already has a ramp installed. \n",
    "\n",
    "The marketing manager would like to know whether you can develop a model to predict whether an event venue has a wheelchair ramp. To help you with this, he has provided you with a dataset of London venues. This data includes whether the venue has a ramp.\n",
    "\n",
    "It is a waste of time to contact venues that already have a ramp installed, and it also looks bad for the company. Therefore, it is especially important to exclude locations that already have a ramp. Ideally, at least two-thirds of venues predicted to be without a ramp should not have a ramp. \n",
    "\n",
    "You will need to present your findings in two formats:\n",
    "- First, you will need to present your findings to the marketing manager via a 10 minute oral presentation. The owner has no technical data science background. \n",
    "- You will also need to submit a technical report to your manager, who does have a strong technical data science background.\n",
    "\n",
    "The data you will use for this analysis can be accessed here: `\"data/event_venues.csv\"`"
   ]
  },
  {
   "cell_type": "code",
   "execution_count": 85,
   "id": "dramatic-hampshire",
   "metadata": {
    "scrolled": true
   },
   "outputs": [],
   "source": [
    "# Use this cell to begin, and add as many cells as you need to complete your analysis!\n",
    "import pandas as pd\n",
    "import numpy as np\n",
    "import matplotlib.pyplot as plt\n",
    "from sklearn.metrics import classification_report\n",
    "from sklearn.model_selection import train_test_split\n",
    "from sklearn.metrics import confusion_matrix\n",
    "from statistics import mean\n",
    "\n",
    "plt.style.use('seaborn')\n",
    "import seaborn as sns\n",
    "from sklearn.tree import DecisionTreeClassifier"
   ]
  },
  {
   "cell_type": "code",
   "execution_count": 86,
   "id": "a966ed44-cb90-4f88-bbee-a1013021c9c9",
   "metadata": {},
   "outputs": [
    {
     "data": {
      "text/html": [
       "<div>\n",
       "<style scoped>\n",
       "    .dataframe tbody tr th:only-of-type {\n",
       "        vertical-align: middle;\n",
       "    }\n",
       "\n",
       "    .dataframe tbody tr th {\n",
       "        vertical-align: top;\n",
       "    }\n",
       "\n",
       "    .dataframe thead th {\n",
       "        text-align: right;\n",
       "    }\n",
       "</style>\n",
       "<table border=\"1\" class=\"dataframe\">\n",
       "  <thead>\n",
       "    <tr style=\"text-align: right;\">\n",
       "      <th></th>\n",
       "      <th>venue_name</th>\n",
       "      <th>Loud music / events</th>\n",
       "      <th>Venue provides alcohol</th>\n",
       "      <th>Wi-Fi</th>\n",
       "      <th>supervenue</th>\n",
       "      <th>U-Shaped_max</th>\n",
       "      <th>max_standing</th>\n",
       "      <th>Theatre_max</th>\n",
       "      <th>Promoted / ticketed events</th>\n",
       "      <th>Wheelchair accessible</th>\n",
       "    </tr>\n",
       "  </thead>\n",
       "  <tbody>\n",
       "    <tr>\n",
       "      <th>0</th>\n",
       "      <td>techspace aldgate east</td>\n",
       "      <td>False</td>\n",
       "      <td>0</td>\n",
       "      <td>True</td>\n",
       "      <td>False</td>\n",
       "      <td>35.045455</td>\n",
       "      <td>0</td>\n",
       "      <td>112.715867</td>\n",
       "      <td>False</td>\n",
       "      <td>False</td>\n",
       "    </tr>\n",
       "    <tr>\n",
       "      <th>1</th>\n",
       "      <td>green rooms hotel</td>\n",
       "      <td>True</td>\n",
       "      <td>1</td>\n",
       "      <td>True</td>\n",
       "      <td>False</td>\n",
       "      <td>40.000000</td>\n",
       "      <td>120</td>\n",
       "      <td>80.000000</td>\n",
       "      <td>True</td>\n",
       "      <td>False</td>\n",
       "    </tr>\n",
       "    <tr>\n",
       "      <th>2</th>\n",
       "      <td>148 leadenhall street</td>\n",
       "      <td>False</td>\n",
       "      <td>0</td>\n",
       "      <td>True</td>\n",
       "      <td>False</td>\n",
       "      <td>35.045455</td>\n",
       "      <td>0</td>\n",
       "      <td>112.715867</td>\n",
       "      <td>False</td>\n",
       "      <td>False</td>\n",
       "    </tr>\n",
       "    <tr>\n",
       "      <th>3</th>\n",
       "      <td>conway hall</td>\n",
       "      <td>False</td>\n",
       "      <td>0</td>\n",
       "      <td>True</td>\n",
       "      <td>False</td>\n",
       "      <td>35.045455</td>\n",
       "      <td>60</td>\n",
       "      <td>60.000000</td>\n",
       "      <td>False</td>\n",
       "      <td>False</td>\n",
       "    </tr>\n",
       "    <tr>\n",
       "      <th>4</th>\n",
       "      <td>gridiron building</td>\n",
       "      <td>False</td>\n",
       "      <td>0</td>\n",
       "      <td>True</td>\n",
       "      <td>False</td>\n",
       "      <td>35.045455</td>\n",
       "      <td>0</td>\n",
       "      <td>112.715867</td>\n",
       "      <td>False</td>\n",
       "      <td>False</td>\n",
       "    </tr>\n",
       "    <tr>\n",
       "      <th>5</th>\n",
       "      <td>kimpton fitzroy london</td>\n",
       "      <td>True</td>\n",
       "      <td>1</td>\n",
       "      <td>True</td>\n",
       "      <td>False</td>\n",
       "      <td>6.000000</td>\n",
       "      <td>0</td>\n",
       "      <td>112.715867</td>\n",
       "      <td>True</td>\n",
       "      <td>False</td>\n",
       "    </tr>\n",
       "    <tr>\n",
       "      <th>6</th>\n",
       "      <td>lloyds avenue</td>\n",
       "      <td>False</td>\n",
       "      <td>0</td>\n",
       "      <td>True</td>\n",
       "      <td>False</td>\n",
       "      <td>35.045455</td>\n",
       "      <td>0</td>\n",
       "      <td>112.715867</td>\n",
       "      <td>False</td>\n",
       "      <td>False</td>\n",
       "    </tr>\n",
       "    <tr>\n",
       "      <th>7</th>\n",
       "      <td>public space | members-style bar &amp; dining</td>\n",
       "      <td>True</td>\n",
       "      <td>1</td>\n",
       "      <td>True</td>\n",
       "      <td>False</td>\n",
       "      <td>35.045455</td>\n",
       "      <td>200</td>\n",
       "      <td>112.715867</td>\n",
       "      <td>False</td>\n",
       "      <td>False</td>\n",
       "    </tr>\n",
       "    <tr>\n",
       "      <th>8</th>\n",
       "      <td>16 old queen street</td>\n",
       "      <td>False</td>\n",
       "      <td>0</td>\n",
       "      <td>True</td>\n",
       "      <td>False</td>\n",
       "      <td>35.045455</td>\n",
       "      <td>0</td>\n",
       "      <td>112.715867</td>\n",
       "      <td>False</td>\n",
       "      <td>False</td>\n",
       "    </tr>\n",
       "    <tr>\n",
       "      <th>9</th>\n",
       "      <td>siorai bar</td>\n",
       "      <td>True</td>\n",
       "      <td>1</td>\n",
       "      <td>True</td>\n",
       "      <td>False</td>\n",
       "      <td>35.045455</td>\n",
       "      <td>180</td>\n",
       "      <td>20.000000</td>\n",
       "      <td>True</td>\n",
       "      <td>False</td>\n",
       "    </tr>\n",
       "  </tbody>\n",
       "</table>\n",
       "</div>"
      ],
      "text/plain": [
       "                                  venue_name  Loud music / events  \\\n",
       "0                     techspace aldgate east                False   \n",
       "1                          green rooms hotel                 True   \n",
       "2                      148 leadenhall street                False   \n",
       "3                                conway hall                False   \n",
       "4                          gridiron building                False   \n",
       "5                     kimpton fitzroy london                 True   \n",
       "6                              lloyds avenue                False   \n",
       "7  public space | members-style bar & dining                 True   \n",
       "8                        16 old queen street                False   \n",
       "9                                 siorai bar                 True   \n",
       "\n",
       "   Venue provides alcohol  Wi-Fi  supervenue  U-Shaped_max  max_standing  \\\n",
       "0                       0   True       False     35.045455             0   \n",
       "1                       1   True       False     40.000000           120   \n",
       "2                       0   True       False     35.045455             0   \n",
       "3                       0   True       False     35.045455            60   \n",
       "4                       0   True       False     35.045455             0   \n",
       "5                       1   True       False      6.000000             0   \n",
       "6                       0   True       False     35.045455             0   \n",
       "7                       1   True       False     35.045455           200   \n",
       "8                       0   True       False     35.045455             0   \n",
       "9                       1   True       False     35.045455           180   \n",
       "\n",
       "   Theatre_max  Promoted / ticketed events  Wheelchair accessible  \n",
       "0   112.715867                       False                  False  \n",
       "1    80.000000                        True                  False  \n",
       "2   112.715867                       False                  False  \n",
       "3    60.000000                       False                  False  \n",
       "4   112.715867                       False                  False  \n",
       "5   112.715867                        True                  False  \n",
       "6   112.715867                       False                  False  \n",
       "7   112.715867                       False                  False  \n",
       "8   112.715867                       False                  False  \n",
       "9    20.000000                        True                  False  "
      ]
     },
     "execution_count": 86,
     "metadata": {},
     "output_type": "execute_result"
    }
   ],
   "source": [
    "df = pd.read_csv(\"data/event_venues.csv\")\n",
    "df.head(10)"
   ]
  },
  {
   "cell_type": "code",
   "execution_count": 87,
   "id": "f9b9af16-be42-4eb4-b3b3-26f32446feda",
   "metadata": {},
   "outputs": [
    {
     "data": {
      "text/plain": [
       "venue_name                    0\n",
       "Loud music / events           0\n",
       "Venue provides alcohol        0\n",
       "Wi-Fi                         0\n",
       "supervenue                    0\n",
       "U-Shaped_max                  0\n",
       "max_standing                  0\n",
       "Theatre_max                   0\n",
       "Promoted / ticketed events    0\n",
       "Wheelchair accessible         0\n",
       "dtype: int64"
      ]
     },
     "execution_count": 87,
     "metadata": {},
     "output_type": "execute_result"
    }
   ],
   "source": [
    "# No missing value\n",
    "df.isnull().sum()"
   ]
  },
  {
   "cell_type": "code",
   "execution_count": 88,
   "id": "8f28d660-d163-49ce-bc4c-1c996cd2bb69",
   "metadata": {},
   "outputs": [
    {
     "name": "stdout",
     "output_type": "stream",
     "text": [
      "<class 'pandas.core.frame.DataFrame'>\n",
      "RangeIndex: 3910 entries, 0 to 3909\n",
      "Data columns (total 10 columns):\n",
      " #   Column                      Non-Null Count  Dtype   \n",
      "---  ------                      --------------  -----   \n",
      " 0   venue_name                  3910 non-null   category\n",
      " 1   Loud music / events         3910 non-null   bool    \n",
      " 2   Venue provides alcohol      3910 non-null   int64   \n",
      " 3   Wi-Fi                       3910 non-null   bool    \n",
      " 4   supervenue                  3910 non-null   bool    \n",
      " 5   U-Shaped_max                3910 non-null   float64 \n",
      " 6   max_standing                3910 non-null   int64   \n",
      " 7   Theatre_max                 3910 non-null   float64 \n",
      " 8   Promoted / ticketed events  3910 non-null   bool    \n",
      " 9   Wheelchair accessible       3910 non-null   bool    \n",
      "dtypes: bool(5), category(1), float64(2), int64(2)\n",
      "memory usage: 192.6 KB\n"
     ]
    }
   ],
   "source": [
    "df['venue_name'] = df['venue_name'].astype('category')\n",
    "df.info()"
   ]
  },
  {
   "cell_type": "code",
   "execution_count": 89,
   "id": "6f269984-6600-43f2-b7ab-3cbbbd81b5d2",
   "metadata": {},
   "outputs": [
    {
     "data": {
      "text/plain": [
       "3910"
      ]
     },
     "execution_count": 89,
     "metadata": {},
     "output_type": "execute_result"
    }
   ],
   "source": [
    "len(df)"
   ]
  },
  {
   "cell_type": "markdown",
   "id": "1706c231-b56c-4a6e-99c7-a78bf17a8054",
   "metadata": {},
   "source": [
    "First before we perform anything let's split our data for training and testing, we will leave the testing data alone until the very end once we've determined a model we think is best. This prevent overfitting to the test data and provides a non bias overview of our model generalization capability."
   ]
  },
  {
   "cell_type": "code",
   "execution_count": 239,
   "id": "0bfbb7a0-cb90-433a-94a9-d563dc8990b0",
   "metadata": {},
   "outputs": [],
   "source": [
    "df_train, df_test = train_test_split(df, test_size=0.2, random_state = 0)"
   ]
  },
  {
   "cell_type": "code",
   "execution_count": 91,
   "id": "8b8463a5-a7af-4525-a419-188ca642ce0e",
   "metadata": {},
   "outputs": [],
   "source": [
    "target = 'Wheelchair accessible'"
   ]
  },
  {
   "cell_type": "markdown",
   "id": "c40fa364-cbc9-4232-b2b8-2a021ed5c2d8",
   "metadata": {
    "tags": []
   },
   "source": [
    "## EDA"
   ]
  },
  {
   "cell_type": "code",
   "execution_count": 92,
   "id": "8b64ac7f-e3cb-40d9-a400-7f9f2486dab2",
   "metadata": {},
   "outputs": [
    {
     "data": {
      "image/png": "[encoded data removed]",
      "text/plain": [
       "<Figure size 576x576 with 4 Axes>"
      ]
     },
     "metadata": {},
     "output_type": "display_data"
    }
   ],
   "source": [
    "# First lets try to spot any potential outliers in our numerical data using histogram and summary statistics.\n",
    "df_train.hist(figsize=(8,8), xrot=45, bins=20)\n",
    "plt.show()"
   ]
  },
  {
   "cell_type": "code",
   "execution_count": 93,
   "id": "a43708c9-b78b-4131-abbc-8f891f47b050",
   "metadata": {},
   "outputs": [
    {
     "data": {
      "text/html": [
       "<div>\n",
       "<style scoped>\n",
       "    .dataframe tbody tr th:only-of-type {\n",
       "        vertical-align: middle;\n",
       "    }\n",
       "\n",
       "    .dataframe tbody tr th {\n",
       "        vertical-align: top;\n",
       "    }\n",
       "\n",
       "    .dataframe thead th {\n",
       "        text-align: right;\n",
       "    }\n",
       "</style>\n",
       "<table border=\"1\" class=\"dataframe\">\n",
       "  <thead>\n",
       "    <tr style=\"text-align: right;\">\n",
       "      <th></th>\n",
       "      <th>Venue provides alcohol</th>\n",
       "      <th>U-Shaped_max</th>\n",
       "      <th>max_standing</th>\n",
       "      <th>Theatre_max</th>\n",
       "    </tr>\n",
       "  </thead>\n",
       "  <tbody>\n",
       "    <tr>\n",
       "      <th>count</th>\n",
       "      <td>3128.000000</td>\n",
       "      <td>3128.000000</td>\n",
       "      <td>3128.000000</td>\n",
       "      <td>3128.000000</td>\n",
       "    </tr>\n",
       "    <tr>\n",
       "      <th>mean</th>\n",
       "      <td>0.715473</td>\n",
       "      <td>34.469905</td>\n",
       "      <td>111.485934</td>\n",
       "      <td>111.876338</td>\n",
       "    </tr>\n",
       "    <tr>\n",
       "      <th>std</th>\n",
       "      <td>0.451261</td>\n",
       "      <td>20.041665</td>\n",
       "      <td>249.709427</td>\n",
       "      <td>119.055118</td>\n",
       "    </tr>\n",
       "    <tr>\n",
       "      <th>min</th>\n",
       "      <td>0.000000</td>\n",
       "      <td>2.000000</td>\n",
       "      <td>0.000000</td>\n",
       "      <td>2.000000</td>\n",
       "    </tr>\n",
       "    <tr>\n",
       "      <th>25%</th>\n",
       "      <td>0.000000</td>\n",
       "      <td>35.045455</td>\n",
       "      <td>0.000000</td>\n",
       "      <td>80.000000</td>\n",
       "    </tr>\n",
       "    <tr>\n",
       "      <th>50%</th>\n",
       "      <td>1.000000</td>\n",
       "      <td>35.045455</td>\n",
       "      <td>50.000000</td>\n",
       "      <td>112.715867</td>\n",
       "    </tr>\n",
       "    <tr>\n",
       "      <th>75%</th>\n",
       "      <td>1.000000</td>\n",
       "      <td>35.045455</td>\n",
       "      <td>120.000000</td>\n",
       "      <td>112.715867</td>\n",
       "    </tr>\n",
       "    <tr>\n",
       "      <th>max</th>\n",
       "      <td>1.000000</td>\n",
       "      <td>900.000000</td>\n",
       "      <td>7500.000000</td>\n",
       "      <td>2500.000000</td>\n",
       "    </tr>\n",
       "  </tbody>\n",
       "</table>\n",
       "</div>"
      ],
      "text/plain": [
       "       Venue provides alcohol  U-Shaped_max  max_standing  Theatre_max\n",
       "count             3128.000000   3128.000000   3128.000000  3128.000000\n",
       "mean                 0.715473     34.469905    111.485934   111.876338\n",
       "std                  0.451261     20.041665    249.709427   119.055118\n",
       "min                  0.000000      2.000000      0.000000     2.000000\n",
       "25%                  0.000000     35.045455      0.000000    80.000000\n",
       "50%                  1.000000     35.045455     50.000000   112.715867\n",
       "75%                  1.000000     35.045455    120.000000   112.715867\n",
       "max                  1.000000    900.000000   7500.000000  2500.000000"
      ]
     },
     "execution_count": 93,
     "metadata": {},
     "output_type": "execute_result"
    }
   ],
   "source": [
    "df_train.describe()"
   ]
  },
  {
   "cell_type": "markdown",
   "id": "a7cab2f4-f474-4a34-b6ed-0dc42eb16fb5",
   "metadata": {},
   "source": [
    "Looking at the summary statistics we can see that the distributions in `u-Shaped_max`, `max_standing`, and `Theatre_max` are quite large. This could be some consideration whether or not we should perform feature scaling. Furthermore the maximum value of the feature are really far out from the mean which could suggest outliers. However, to be able to say that it is an outlier require us to have a good understanding at the source of our data. For this case I would say that these are not as it make sense that there are some amount of venue which have a total capacity far larger from the rest."
   ]
  },
  {
   "cell_type": "markdown",
   "id": "c753a3d1-65dd-462a-8674-3786958c8247",
   "metadata": {},
   "source": [
    "### Imbalance Class?"
   ]
  },
  {
   "cell_type": "code",
   "execution_count": 94,
   "id": "1fa984f6-301f-4012-85ae-3a1a609c9951",
   "metadata": {},
   "outputs": [
    {
     "data": {
      "text/plain": [
       "<AxesSubplot:xlabel='Wheelchair accessible', ylabel='count'>"
      ]
     },
     "execution_count": 94,
     "metadata": {},
     "output_type": "execute_result"
    },
    {
     "data": {
      "image/png": "[encoded data removed]",
      "text/plain": [
       "<Figure size 576x396 with 1 Axes>"
      ]
     },
     "metadata": {},
     "output_type": "display_data"
    }
   ],
   "source": [
    "# Let's check if there is any imbalances in our target variable\n",
    "sns.countplot(x = target, data = df_train)"
   ]
  },
  {
   "cell_type": "markdown",
   "id": "6abf4a88-1520-455b-a0bd-a836079da9bb",
   "metadata": {},
   "source": [
    "We can see that the number of venue accessible to wheelchair and those that are not are pretty balance so we don't have to perform any resampling."
   ]
  },
  {
   "cell_type": "markdown",
   "id": "50d02d68-0a61-45c0-8377-ba83ca1539fe",
   "metadata": {
    "tags": []
   },
   "source": [
    "### Segment and group by the target feature"
   ]
  },
  {
   "cell_type": "code",
   "execution_count": 95,
   "id": "3f4db04f-6415-4533-9652-cf62f5cbd3d9",
   "metadata": {},
   "outputs": [
    {
     "name": "stderr",
     "output_type": "stream",
     "text": [
      "<ipython-input-95-badd2281d496>:1: SettingWithCopyWarning: \n",
      "A value is trying to be set on a copy of a slice from a DataFrame.\n",
      "Try using .loc[row_indexer,col_indexer] = value instead\n",
      "\n",
      "See the caveats in the documentation: https://pandas.pydata.org/pandas-docs/stable/user_guide/indexing.html#returning-a-view-versus-a-copy\n",
      "  df_train[target] = df_train[target].astype('category')\n"
     ]
    }
   ],
   "source": [
    "df_train[target] = df_train[target].astype('category')"
   ]
  },
  {
   "cell_type": "code",
   "execution_count": 96,
   "id": "d0567143-fcd5-44df-ab02-45be1d1bbb88",
   "metadata": {},
   "outputs": [
    {
     "data": {
      "image/png": "[encoded data removed]",
      "text/plain": [
       "<Figure size 576x396 with 1 Axes>"
      ]
     },
     "metadata": {},
     "output_type": "display_data"
    },
    {
     "data": {
      "image/png": "[encoded data removed]",
      "text/plain": [
       "<Figure size 576x396 with 1 Axes>"
      ]
     },
     "metadata": {},
     "output_type": "display_data"
    },
    {
     "data": {
      "image/png": "[encoded data removed]",
      "text/plain": [
       "<Figure size 576x396 with 1 Axes>"
      ]
     },
     "metadata": {},
     "output_type": "display_data"
    }
   ],
   "source": [
    "num_cols = ['U-Shaped_max', 'max_standing', 'Theatre_max']\n",
    "for col in num_cols:\n",
    "    ax = sns.boxplot(y = target, x = col, data=df_train)\n",
    "    ax.set_xlim(0,500)\n",
    "    plt.show()"
   ]
  },
  {
   "cell_type": "markdown",
   "id": "de21a45a-7d87-40be-99e2-791b883234c0",
   "metadata": {},
   "source": [
    "From the box plot we can see that there are a lot of so called `outlier` in our numerical features and also the distribution for `Theatre_max` and `U-shaped_max` are really dispersed. But more importantly in a glance we can see that a larger proportion of venue who have larger max and standing capacity tends to be Wheelchair accessible. Keeping these in mind these 2 features might be important in us predicting venue with wheelchair accessibility."
   ]
  },
  {
   "cell_type": "markdown",
   "id": "04abcbd7-58fe-4e50-8ccb-df72335ec519",
   "metadata": {},
   "source": [
    "### Segment Categorical features by the target classes"
   ]
  },
  {
   "cell_type": "code",
   "execution_count": 97,
   "id": "cf4c6e5f-aef1-4ecc-8387-3cbe7f0700b8",
   "metadata": {},
   "outputs": [],
   "source": [
    "categorical = ['Venue provides alcohol', 'Loud music / events', 'Wi-Fi', 'supervenue', 'Promoted / ticketed events']"
   ]
  },
  {
   "cell_type": "code",
   "execution_count": 98,
   "id": "1fc4c673-a435-4b95-adfc-1082b788e398",
   "metadata": {},
   "outputs": [
    {
     "data": {
      "image/png": "[encoded data removed]",
      "text/plain": [
       "<Figure size 720x360 with 2 Axes>"
      ]
     },
     "metadata": {},
     "output_type": "display_data"
    },
    {
     "data": {
      "image/png": "[encoded data removed]",
      "text/plain": [
       "<Figure size 720x360 with 2 Axes>"
      ]
     },
     "metadata": {},
     "output_type": "display_data"
    },
    {
     "data": {
      "image/png": "[encoded data removed]",
      "text/plain": [
       "<Figure size 720x360 with 2 Axes>"
      ]
     },
     "metadata": {},
     "output_type": "display_data"
    },
    {
     "data": {
      "image/png": "[encoded data removed]",
      "text/plain": [
       "<Figure size 720x360 with 2 Axes>"
      ]
     },
     "metadata": {},
     "output_type": "display_data"
    },
    {
     "data": {
      "image/png": "[encoded data removed]",
      "text/plain": [
       "<Figure size 720x360 with 2 Axes>"
      ]
     },
     "metadata": {},
     "output_type": "display_data"
    }
   ],
   "source": [
    "for col in categorical:\n",
    "        g = sns.catplot(x = col, kind='count', col = target, data=df_train, sharey=False)"
   ]
  },
  {
   "cell_type": "markdown",
   "id": "7f73f0c1-bb54-4bcc-b1e1-b4a88b37b141",
   "metadata": {},
   "source": [
    "We can see that there are some difference in how the target variable is distributed in venue that provides `alcohol` and venue that hosts `promoted/ticketed events`. We see that in venue that hosts `promoted/ticketed` events tend to be wheelchair accesible, while venue that doesn't provide alcohol tend to be non accessible to wheelchair. This shows that these features might be a good indicator of the target."
   ]
  },
  {
   "cell_type": "markdown",
   "id": "9f733572-ddc8-44af-89bf-706f03a026e8",
   "metadata": {},
   "source": [
    "### Correlation Matrix"
   ]
  },
  {
   "cell_type": "code",
   "execution_count": 99,
   "id": "adc6b23a-d1f3-4157-b523-efac1a1f7704",
   "metadata": {},
   "outputs": [
    {
     "name": "stderr",
     "output_type": "stream",
     "text": [
      "<ipython-input-99-e770310b8beb>:1: SettingWithCopyWarning: \n",
      "A value is trying to be set on a copy of a slice from a DataFrame.\n",
      "Try using .loc[row_indexer,col_indexer] = value instead\n",
      "\n",
      "See the caveats in the documentation: https://pandas.pydata.org/pandas-docs/stable/user_guide/indexing.html#returning-a-view-versus-a-copy\n",
      "  df_train[target] = df_train[target].astype('bool')\n"
     ]
    },
    {
     "data": {
      "image/png": "[encoded data removed]",
      "text/plain": [
       "<Figure size 432x432 with 2 Axes>"
      ]
     },
     "metadata": {},
     "output_type": "display_data"
    }
   ],
   "source": [
    "df_train[target] = df_train[target].astype('bool')\n",
    "corr = df_train.corr()\n",
    "plt.figure(figsize=(6,6))\n",
    "sns.heatmap(corr, cmap='RdBu_r', annot=True, vmax=1, vmin=-1)\n",
    "plt.show()"
   ]
  },
  {
   "cell_type": "markdown",
   "id": "f7ec2d7d-7011-432b-bbdc-8a51f36a6499",
   "metadata": {},
   "source": [
    "From the correlation matrix we can see that there isn't any strong positive or negative linear correlation between the features and our target variable `Wheelchair accesible`."
   ]
  },
  {
   "cell_type": "markdown",
   "id": "122a49d4-e8c3-4ac3-884a-3e7391ec9ccf",
   "metadata": {},
   "source": [
    "## Feature Pre-Processing"
   ]
  },
  {
   "cell_type": "code",
   "execution_count": 100,
   "id": "f8dcd87d-32d6-4677-9a9a-2a82c6007dc7",
   "metadata": {},
   "outputs": [
    {
     "data": {
      "text/plain": [
       "venue_name                    category\n",
       "Loud music / events               bool\n",
       "Venue provides alcohol           int64\n",
       "Wi-Fi                             bool\n",
       "supervenue                        bool\n",
       "U-Shaped_max                   float64\n",
       "max_standing                     int64\n",
       "Theatre_max                    float64\n",
       "Promoted / ticketed events        bool\n",
       "Wheelchair accessible             bool\n",
       "dtype: object"
      ]
     },
     "execution_count": 100,
     "metadata": {},
     "output_type": "execute_result"
    }
   ],
   "source": [
    "df_train.dtypes"
   ]
  },
  {
   "cell_type": "code",
   "execution_count": 101,
   "id": "e8d00886-b320-46a2-8098-360da52490c8",
   "metadata": {},
   "outputs": [],
   "source": [
    "from sklearn import preprocessing\n",
    "from sklearn.model_selection import KFold\n",
    "from sklearn.model_selection import cross_val_score"
   ]
  },
  {
   "cell_type": "code",
   "execution_count": 245,
   "id": "85c26766-be70-43f6-8853-df1e075d190a",
   "metadata": {},
   "outputs": [],
   "source": [
    "X = df_train.iloc[:, 1:-1]\n",
    "y = df_train[target].replace({False: 1, True: 0})\n",
    "\n",
    "# Label encoding\n",
    "# le = preprocessing.LabelEncoder()\n",
    "\n",
    "# bool_col = ['Loud music / events', 'Wi-Fi', 'supervenue', 'Promoted / ticketed events']\n",
    "# for i in bool_col:\n",
    "#     X[i] = X[i].replace({True: 1, False: 0})\n"
   ]
  },
  {
   "cell_type": "markdown",
   "id": "9c4b096a-ab69-4d35-80b8-6c6ac27c0bdc",
   "metadata": {},
   "source": [
    "### Scaling"
   ]
  },
  {
   "cell_type": "markdown",
   "id": "65423f9e-df18-44d6-a0b2-bf09af1c3054",
   "metadata": {},
   "source": [
    "As we've seen from our previous data exploratory analysis we see that the features in our data have varying distributions and even indication of so called \"outliers\", this might effect the performance of distance based algorithm (KNN, SVM) and gradient descent algorithm (logistic regression). To fix this it is important to scale our data before feeding them to our model, I will try 2 methods of scaling standard scaling: Standard Scaling and MinMaxScaler. Standard scaling will help reduce the importance of outliers by scaling the distribution to an std = 1. MinMaxScaler on the other hand doesn't reduce the important of outliers and are less distruptive to the information of the original data it will scale the data to a default range of 0 - 1.\n",
    "\n",
    "We will simply try both of these scaling method and see which yields best result on our model."
   ]
  },
  {
   "cell_type": "code",
   "execution_count": 103,
   "id": "37f47a3a-1ebc-43b9-b611-66785125913d",
   "metadata": {},
   "outputs": [],
   "source": [
    "# Standard Scaling\n",
    "from sklearn.preprocessing import StandardScaler\n",
    "scaler = StandardScaler()\n",
    "X_scale = scaler.fit_transform(X)\n",
    "\n",
    "from sklearn.preprocessing import MinMaxScaler\n",
    "scaler = MinMaxScaler()\n",
    "X_norm = scaler.fit_transform(X)"
   ]
  },
  {
   "cell_type": "code",
   "execution_count": 104,
   "id": "bf17fb17-a034-474b-a651-e51d51704a56",
   "metadata": {},
   "outputs": [
    {
     "data": {
      "text/html": [
       "<div>\n",
       "<style scoped>\n",
       "    .dataframe tbody tr th:only-of-type {\n",
       "        vertical-align: middle;\n",
       "    }\n",
       "\n",
       "    .dataframe tbody tr th {\n",
       "        vertical-align: top;\n",
       "    }\n",
       "\n",
       "    .dataframe thead th {\n",
       "        text-align: right;\n",
       "    }\n",
       "</style>\n",
       "<table border=\"1\" class=\"dataframe\">\n",
       "  <thead>\n",
       "    <tr style=\"text-align: right;\">\n",
       "      <th></th>\n",
       "      <th>Loud music / events</th>\n",
       "      <th>Venue provides alcohol</th>\n",
       "      <th>Wi-Fi</th>\n",
       "      <th>supervenue</th>\n",
       "      <th>U-Shaped_max</th>\n",
       "      <th>max_standing</th>\n",
       "      <th>Theatre_max</th>\n",
       "      <th>Promoted / ticketed events</th>\n",
       "    </tr>\n",
       "  </thead>\n",
       "  <tbody>\n",
       "    <tr>\n",
       "      <th>788</th>\n",
       "      <td>-0.752041</td>\n",
       "      <td>-1.585751</td>\n",
       "      <td>0.270315</td>\n",
       "      <td>-0.263442</td>\n",
       "      <td>0.028722</td>\n",
       "      <td>-0.446534</td>\n",
       "      <td>0.007053</td>\n",
       "      <td>-0.788928</td>\n",
       "    </tr>\n",
       "    <tr>\n",
       "      <th>1101</th>\n",
       "      <td>-0.752041</td>\n",
       "      <td>-1.585751</td>\n",
       "      <td>0.270315</td>\n",
       "      <td>-0.263442</td>\n",
       "      <td>-0.223066</td>\n",
       "      <td>-0.326375</td>\n",
       "      <td>-0.687828</td>\n",
       "      <td>-0.788928</td>\n",
       "    </tr>\n",
       "    <tr>\n",
       "      <th>519</th>\n",
       "      <td>-0.752041</td>\n",
       "      <td>-1.585751</td>\n",
       "      <td>0.270315</td>\n",
       "      <td>3.795901</td>\n",
       "      <td>0.028722</td>\n",
       "      <td>-0.406481</td>\n",
       "      <td>0.007053</td>\n",
       "      <td>-0.788928</td>\n",
       "    </tr>\n",
       "  </tbody>\n",
       "</table>\n",
       "</div>"
      ],
      "text/plain": [
       "      Loud music / events  Venue provides alcohol     Wi-Fi  supervenue  \\\n",
       "788             -0.752041               -1.585751  0.270315   -0.263442   \n",
       "1101            -0.752041               -1.585751  0.270315   -0.263442   \n",
       "519             -0.752041               -1.585751  0.270315    3.795901   \n",
       "\n",
       "      U-Shaped_max  max_standing  Theatre_max  Promoted / ticketed events  \n",
       "788       0.028722     -0.446534     0.007053                   -0.788928  \n",
       "1101     -0.223066     -0.326375    -0.687828                   -0.788928  \n",
       "519       0.028722     -0.406481     0.007053                   -0.788928  "
      ]
     },
     "execution_count": 104,
     "metadata": {},
     "output_type": "execute_result"
    }
   ],
   "source": [
    "X_scale = pd.DataFrame(X_scale, index = X.index, columns = X.columns)\n",
    "X_scale.head(3)"
   ]
  },
  {
   "cell_type": "code",
   "execution_count": 105,
   "id": "6816697e-de02-4b76-a205-0e6469d7cf69",
   "metadata": {},
   "outputs": [
    {
     "data": {
      "text/html": [
       "<div>\n",
       "<style scoped>\n",
       "    .dataframe tbody tr th:only-of-type {\n",
       "        vertical-align: middle;\n",
       "    }\n",
       "\n",
       "    .dataframe tbody tr th {\n",
       "        vertical-align: top;\n",
       "    }\n",
       "\n",
       "    .dataframe thead th {\n",
       "        text-align: right;\n",
       "    }\n",
       "</style>\n",
       "<table border=\"1\" class=\"dataframe\">\n",
       "  <thead>\n",
       "    <tr style=\"text-align: right;\">\n",
       "      <th></th>\n",
       "      <th>Loud music / events</th>\n",
       "      <th>Venue provides alcohol</th>\n",
       "      <th>Wi-Fi</th>\n",
       "      <th>supervenue</th>\n",
       "      <th>U-Shaped_max</th>\n",
       "      <th>max_standing</th>\n",
       "      <th>Theatre_max</th>\n",
       "      <th>Promoted / ticketed events</th>\n",
       "    </tr>\n",
       "  </thead>\n",
       "  <tbody>\n",
       "    <tr>\n",
       "      <th>count</th>\n",
       "      <td>3.128000e+03</td>\n",
       "      <td>3.128000e+03</td>\n",
       "      <td>3.128000e+03</td>\n",
       "      <td>3.128000e+03</td>\n",
       "      <td>3.128000e+03</td>\n",
       "      <td>3.128000e+03</td>\n",
       "      <td>3.128000e+03</td>\n",
       "      <td>3.128000e+03</td>\n",
       "    </tr>\n",
       "    <tr>\n",
       "      <th>mean</th>\n",
       "      <td>-2.661980e-17</td>\n",
       "      <td>-1.171271e-18</td>\n",
       "      <td>-3.510264e-17</td>\n",
       "      <td>-2.413528e-16</td>\n",
       "      <td>-1.001900e-15</td>\n",
       "      <td>-2.259488e-16</td>\n",
       "      <td>-1.323450e-15</td>\n",
       "      <td>1.426821e-17</td>\n",
       "    </tr>\n",
       "    <tr>\n",
       "      <th>std</th>\n",
       "      <td>1.000160e+00</td>\n",
       "      <td>1.000160e+00</td>\n",
       "      <td>1.000160e+00</td>\n",
       "      <td>1.000160e+00</td>\n",
       "      <td>1.000160e+00</td>\n",
       "      <td>1.000160e+00</td>\n",
       "      <td>1.000160e+00</td>\n",
       "      <td>1.000160e+00</td>\n",
       "    </tr>\n",
       "    <tr>\n",
       "      <th>min</th>\n",
       "      <td>-7.520409e-01</td>\n",
       "      <td>-1.585751e+00</td>\n",
       "      <td>-3.699385e+00</td>\n",
       "      <td>-2.634420e-01</td>\n",
       "      <td>-1.620379e+00</td>\n",
       "      <td>-4.465340e-01</td>\n",
       "      <td>-9.230507e-01</td>\n",
       "      <td>-7.889275e-01</td>\n",
       "    </tr>\n",
       "    <tr>\n",
       "      <th>25%</th>\n",
       "      <td>-7.520409e-01</td>\n",
       "      <td>-1.585751e+00</td>\n",
       "      <td>2.703152e-01</td>\n",
       "      <td>-2.634420e-01</td>\n",
       "      <td>2.872223e-02</td>\n",
       "      <td>-4.465340e-01</td>\n",
       "      <td>-2.677872e-01</td>\n",
       "      <td>-7.889275e-01</td>\n",
       "    </tr>\n",
       "    <tr>\n",
       "      <th>50%</th>\n",
       "      <td>-7.520409e-01</td>\n",
       "      <td>6.306160e-01</td>\n",
       "      <td>2.703152e-01</td>\n",
       "      <td>-2.634420e-01</td>\n",
       "      <td>2.872223e-02</td>\n",
       "      <td>-2.462693e-01</td>\n",
       "      <td>7.052730e-03</td>\n",
       "      <td>-7.889275e-01</td>\n",
       "    </tr>\n",
       "    <tr>\n",
       "      <th>75%</th>\n",
       "      <td>1.329715e+00</td>\n",
       "      <td>6.306160e-01</td>\n",
       "      <td>2.703152e-01</td>\n",
       "      <td>-2.634420e-01</td>\n",
       "      <td>2.872223e-02</td>\n",
       "      <td>3.410135e-02</td>\n",
       "      <td>7.052730e-03</td>\n",
       "      <td>1.267544e+00</td>\n",
       "    </tr>\n",
       "    <tr>\n",
       "      <th>max</th>\n",
       "      <td>1.329715e+00</td>\n",
       "      <td>6.306160e-01</td>\n",
       "      <td>2.703152e-01</td>\n",
       "      <td>3.795901e+00</td>\n",
       "      <td>4.319344e+01</td>\n",
       "      <td>2.959318e+01</td>\n",
       "      <td>2.006218e+01</td>\n",
       "      <td>1.267544e+00</td>\n",
       "    </tr>\n",
       "  </tbody>\n",
       "</table>\n",
       "</div>"
      ],
      "text/plain": [
       "       Loud music / events  Venue provides alcohol         Wi-Fi  \\\n",
       "count         3.128000e+03            3.128000e+03  3.128000e+03   \n",
       "mean         -2.661980e-17           -1.171271e-18 -3.510264e-17   \n",
       "std           1.000160e+00            1.000160e+00  1.000160e+00   \n",
       "min          -7.520409e-01           -1.585751e+00 -3.699385e+00   \n",
       "25%          -7.520409e-01           -1.585751e+00  2.703152e-01   \n",
       "50%          -7.520409e-01            6.306160e-01  2.703152e-01   \n",
       "75%           1.329715e+00            6.306160e-01  2.703152e-01   \n",
       "max           1.329715e+00            6.306160e-01  2.703152e-01   \n",
       "\n",
       "         supervenue  U-Shaped_max  max_standing   Theatre_max  \\\n",
       "count  3.128000e+03  3.128000e+03  3.128000e+03  3.128000e+03   \n",
       "mean  -2.413528e-16 -1.001900e-15 -2.259488e-16 -1.323450e-15   \n",
       "std    1.000160e+00  1.000160e+00  1.000160e+00  1.000160e+00   \n",
       "min   -2.634420e-01 -1.620379e+00 -4.465340e-01 -9.230507e-01   \n",
       "25%   -2.634420e-01  2.872223e-02 -4.465340e-01 -2.677872e-01   \n",
       "50%   -2.634420e-01  2.872223e-02 -2.462693e-01  7.052730e-03   \n",
       "75%   -2.634420e-01  2.872223e-02  3.410135e-02  7.052730e-03   \n",
       "max    3.795901e+00  4.319344e+01  2.959318e+01  2.006218e+01   \n",
       "\n",
       "       Promoted / ticketed events  \n",
       "count                3.128000e+03  \n",
       "mean                 1.426821e-17  \n",
       "std                  1.000160e+00  \n",
       "min                 -7.889275e-01  \n",
       "25%                 -7.889275e-01  \n",
       "50%                 -7.889275e-01  \n",
       "75%                  1.267544e+00  \n",
       "max                  1.267544e+00  "
      ]
     },
     "execution_count": 105,
     "metadata": {},
     "output_type": "execute_result"
    }
   ],
   "source": [
    "X_scale.describe()"
   ]
  },
  {
   "cell_type": "code",
   "execution_count": 106,
   "id": "48541910-aa24-4f10-afbf-02204ca08839",
   "metadata": {},
   "outputs": [
    {
     "data": {
      "text/html": [
       "<div>\n",
       "<style scoped>\n",
       "    .dataframe tbody tr th:only-of-type {\n",
       "        vertical-align: middle;\n",
       "    }\n",
       "\n",
       "    .dataframe tbody tr th {\n",
       "        vertical-align: top;\n",
       "    }\n",
       "\n",
       "    .dataframe thead th {\n",
       "        text-align: right;\n",
       "    }\n",
       "</style>\n",
       "<table border=\"1\" class=\"dataframe\">\n",
       "  <thead>\n",
       "    <tr style=\"text-align: right;\">\n",
       "      <th></th>\n",
       "      <th>Loud music / events</th>\n",
       "      <th>Venue provides alcohol</th>\n",
       "      <th>Wi-Fi</th>\n",
       "      <th>supervenue</th>\n",
       "      <th>U-Shaped_max</th>\n",
       "      <th>max_standing</th>\n",
       "      <th>Theatre_max</th>\n",
       "      <th>Promoted / ticketed events</th>\n",
       "    </tr>\n",
       "  </thead>\n",
       "  <tbody>\n",
       "    <tr>\n",
       "      <th>788</th>\n",
       "      <td>0.0</td>\n",
       "      <td>0.0</td>\n",
       "      <td>1.0</td>\n",
       "      <td>0.0</td>\n",
       "      <td>0.036799</td>\n",
       "      <td>0.000000</td>\n",
       "      <td>0.044322</td>\n",
       "      <td>0.0</td>\n",
       "    </tr>\n",
       "    <tr>\n",
       "      <th>1101</th>\n",
       "      <td>0.0</td>\n",
       "      <td>0.0</td>\n",
       "      <td>1.0</td>\n",
       "      <td>0.0</td>\n",
       "      <td>0.031180</td>\n",
       "      <td>0.004000</td>\n",
       "      <td>0.011209</td>\n",
       "      <td>0.0</td>\n",
       "    </tr>\n",
       "    <tr>\n",
       "      <th>519</th>\n",
       "      <td>0.0</td>\n",
       "      <td>0.0</td>\n",
       "      <td>1.0</td>\n",
       "      <td>1.0</td>\n",
       "      <td>0.036799</td>\n",
       "      <td>0.001333</td>\n",
       "      <td>0.044322</td>\n",
       "      <td>0.0</td>\n",
       "    </tr>\n",
       "  </tbody>\n",
       "</table>\n",
       "</div>"
      ],
      "text/plain": [
       "      Loud music / events  Venue provides alcohol  Wi-Fi  supervenue  \\\n",
       "788                   0.0                     0.0    1.0         0.0   \n",
       "1101                  0.0                     0.0    1.0         0.0   \n",
       "519                   0.0                     0.0    1.0         1.0   \n",
       "\n",
       "      U-Shaped_max  max_standing  Theatre_max  Promoted / ticketed events  \n",
       "788       0.036799      0.000000     0.044322                         0.0  \n",
       "1101      0.031180      0.004000     0.011209                         0.0  \n",
       "519       0.036799      0.001333     0.044322                         0.0  "
      ]
     },
     "execution_count": 106,
     "metadata": {},
     "output_type": "execute_result"
    }
   ],
   "source": [
    "X_norm = pd.DataFrame(X_norm, index = X.index, columns = X.columns)\n",
    "X_norm.head(3)"
   ]
  },
  {
   "cell_type": "code",
   "execution_count": 107,
   "id": "59018c2e-06ba-4931-aca7-d32ad30c66d1",
   "metadata": {},
   "outputs": [
    {
     "data": {
      "text/html": [
       "<div>\n",
       "<style scoped>\n",
       "    .dataframe tbody tr th:only-of-type {\n",
       "        vertical-align: middle;\n",
       "    }\n",
       "\n",
       "    .dataframe tbody tr th {\n",
       "        vertical-align: top;\n",
       "    }\n",
       "\n",
       "    .dataframe thead th {\n",
       "        text-align: right;\n",
       "    }\n",
       "</style>\n",
       "<table border=\"1\" class=\"dataframe\">\n",
       "  <thead>\n",
       "    <tr style=\"text-align: right;\">\n",
       "      <th></th>\n",
       "      <th>Loud music / events</th>\n",
       "      <th>Venue provides alcohol</th>\n",
       "      <th>Wi-Fi</th>\n",
       "      <th>supervenue</th>\n",
       "      <th>U-Shaped_max</th>\n",
       "      <th>max_standing</th>\n",
       "      <th>Theatre_max</th>\n",
       "      <th>Promoted / ticketed events</th>\n",
       "    </tr>\n",
       "  </thead>\n",
       "  <tbody>\n",
       "    <tr>\n",
       "      <th>count</th>\n",
       "      <td>3128.000000</td>\n",
       "      <td>3128.000000</td>\n",
       "      <td>3128.000000</td>\n",
       "      <td>3128.000000</td>\n",
       "      <td>3128.000000</td>\n",
       "      <td>3128.000000</td>\n",
       "      <td>3128.000000</td>\n",
       "      <td>3128.000000</td>\n",
       "    </tr>\n",
       "    <tr>\n",
       "      <th>mean</th>\n",
       "      <td>0.361253</td>\n",
       "      <td>0.715473</td>\n",
       "      <td>0.931905</td>\n",
       "      <td>0.064898</td>\n",
       "      <td>0.036158</td>\n",
       "      <td>0.014865</td>\n",
       "      <td>0.043986</td>\n",
       "      <td>0.383632</td>\n",
       "    </tr>\n",
       "    <tr>\n",
       "      <th>std</th>\n",
       "      <td>0.480441</td>\n",
       "      <td>0.451261</td>\n",
       "      <td>0.251948</td>\n",
       "      <td>0.246385</td>\n",
       "      <td>0.022318</td>\n",
       "      <td>0.033295</td>\n",
       "      <td>0.047660</td>\n",
       "      <td>0.486348</td>\n",
       "    </tr>\n",
       "    <tr>\n",
       "      <th>min</th>\n",
       "      <td>0.000000</td>\n",
       "      <td>0.000000</td>\n",
       "      <td>0.000000</td>\n",
       "      <td>0.000000</td>\n",
       "      <td>0.000000</td>\n",
       "      <td>0.000000</td>\n",
       "      <td>0.000000</td>\n",
       "      <td>0.000000</td>\n",
       "    </tr>\n",
       "    <tr>\n",
       "      <th>25%</th>\n",
       "      <td>0.000000</td>\n",
       "      <td>0.000000</td>\n",
       "      <td>1.000000</td>\n",
       "      <td>0.000000</td>\n",
       "      <td>0.036799</td>\n",
       "      <td>0.000000</td>\n",
       "      <td>0.031225</td>\n",
       "      <td>0.000000</td>\n",
       "    </tr>\n",
       "    <tr>\n",
       "      <th>50%</th>\n",
       "      <td>0.000000</td>\n",
       "      <td>1.000000</td>\n",
       "      <td>1.000000</td>\n",
       "      <td>0.000000</td>\n",
       "      <td>0.036799</td>\n",
       "      <td>0.006667</td>\n",
       "      <td>0.044322</td>\n",
       "      <td>0.000000</td>\n",
       "    </tr>\n",
       "    <tr>\n",
       "      <th>75%</th>\n",
       "      <td>1.000000</td>\n",
       "      <td>1.000000</td>\n",
       "      <td>1.000000</td>\n",
       "      <td>0.000000</td>\n",
       "      <td>0.036799</td>\n",
       "      <td>0.016000</td>\n",
       "      <td>0.044322</td>\n",
       "      <td>1.000000</td>\n",
       "    </tr>\n",
       "    <tr>\n",
       "      <th>max</th>\n",
       "      <td>1.000000</td>\n",
       "      <td>1.000000</td>\n",
       "      <td>1.000000</td>\n",
       "      <td>1.000000</td>\n",
       "      <td>1.000000</td>\n",
       "      <td>1.000000</td>\n",
       "      <td>1.000000</td>\n",
       "      <td>1.000000</td>\n",
       "    </tr>\n",
       "  </tbody>\n",
       "</table>\n",
       "</div>"
      ],
      "text/plain": [
       "       Loud music / events  Venue provides alcohol        Wi-Fi   supervenue  \\\n",
       "count          3128.000000             3128.000000  3128.000000  3128.000000   \n",
       "mean              0.361253                0.715473     0.931905     0.064898   \n",
       "std               0.480441                0.451261     0.251948     0.246385   \n",
       "min               0.000000                0.000000     0.000000     0.000000   \n",
       "25%               0.000000                0.000000     1.000000     0.000000   \n",
       "50%               0.000000                1.000000     1.000000     0.000000   \n",
       "75%               1.000000                1.000000     1.000000     0.000000   \n",
       "max               1.000000                1.000000     1.000000     1.000000   \n",
       "\n",
       "       U-Shaped_max  max_standing  Theatre_max  Promoted / ticketed events  \n",
       "count   3128.000000   3128.000000  3128.000000                 3128.000000  \n",
       "mean       0.036158      0.014865     0.043986                    0.383632  \n",
       "std        0.022318      0.033295     0.047660                    0.486348  \n",
       "min        0.000000      0.000000     0.000000                    0.000000  \n",
       "25%        0.036799      0.000000     0.031225                    0.000000  \n",
       "50%        0.036799      0.006667     0.044322                    0.000000  \n",
       "75%        0.036799      0.016000     0.044322                    1.000000  \n",
       "max        1.000000      1.000000     1.000000                    1.000000  "
      ]
     },
     "execution_count": 107,
     "metadata": {},
     "output_type": "execute_result"
    }
   ],
   "source": [
    "X_norm.describe()"
   ]
  },
  {
   "cell_type": "markdown",
   "id": "d39aebdf-e00c-46c8-b18c-981fb868da1a",
   "metadata": {
    "tags": []
   },
   "source": [
    "## Model Training"
   ]
  },
  {
   "cell_type": "markdown",
   "id": "9003bead-d0f0-4542-8869-c1f12af6f282",
   "metadata": {},
   "source": [
    "### K-Fold Cross Validation "
   ]
  },
  {
   "cell_type": "markdown",
   "id": "91ff05a7-dd53-406a-9281-c18931bac5db",
   "metadata": {},
   "source": [
    "To evaluate our model performance on our training set we will use K-Fold cross validation more specifically 5-Fold since our data are quite limited. K-Fold validation will allow us to get a fairly accurate overview of our model performance and generalization capability since it trains our model using different part of our data and it works well with small size dataset due to the repeated cross fold validation."
   ]
  },
  {
   "cell_type": "code",
   "execution_count": 108,
   "id": "a076c8b1-f0cb-459a-944a-bc44eb3461c4",
   "metadata": {},
   "outputs": [],
   "source": [
    "cv = KFold(n_splits = 5, random_state = 0, shuffle=True)"
   ]
  },
  {
   "cell_type": "code",
   "execution_count": 75,
   "id": "3e48912f",
   "metadata": {},
   "outputs": [
    {
     "data": {
      "text/plain": [
       "array([0, 0, 0, ..., 0, 1, 1], dtype=int64)"
      ]
     },
     "execution_count": 75,
     "metadata": {},
     "output_type": "execute_result"
    }
   ],
   "source": [
    "y"
   ]
  },
  {
   "cell_type": "code",
   "execution_count": 143,
   "id": "61392641",
   "metadata": {},
   "outputs": [],
   "source": [
    "def get_score(model, X, y):\n",
    "    return cross_val_score(model, X = X, y = y, scoring = 'precision', cv = cv, n_jobs = -1)"
   ]
  },
  {
   "cell_type": "markdown",
   "id": "2901042f-815f-4618-a470-73010a5d6e19",
   "metadata": {},
   "source": [
    "### Logistic Regresssion"
   ]
  },
  {
   "cell_type": "code",
   "execution_count": 247,
   "id": "832d1e09-2df7-43ed-8ad4-2c4809cd7d88",
   "metadata": {},
   "outputs": [
    {
     "name": "stderr",
     "output_type": "stream",
     "text": [
      "C:\\Users\\David\\Anaconda3\\lib\\site-packages\\sklearn\\linear_model\\_logistic.py:763: ConvergenceWarning: lbfgs failed to converge (status=1):\n",
      "STOP: TOTAL NO. of ITERATIONS REACHED LIMIT.\n",
      "\n",
      "Increase the number of iterations (max_iter) or scale the data as shown in:\n",
      "    https://scikit-learn.org/stable/modules/preprocessing.html\n",
      "Please also refer to the documentation for alternative solver options:\n",
      "    https://scikit-learn.org/stable/modules/linear_model.html#logistic-regression\n",
      "  n_iter_i = _check_optimize_result(\n"
     ]
    },
    {
     "name": "stdout",
     "output_type": "stream",
     "text": [
      "0.6084089246120791\n"
     ]
    }
   ],
   "source": [
    "from sklearn.linear_model import LogisticRegression\n",
    "lr = LogisticRegression(random_state = 0)\n",
    "lr.fit(X, y)\n",
    "\n",
    "logreg_score = mean(get_score(lr, X, y))\n",
    "print(logreg_score)"
   ]
  },
  {
   "cell_type": "code",
   "execution_count": 248,
   "id": "dc3cdb3a-8cf9-4348-9336-f8c27ae77def",
   "metadata": {},
   "outputs": [
    {
     "name": "stdout",
     "output_type": "stream",
     "text": [
      "0.6063055862836805\n"
     ]
    }
   ],
   "source": [
    "from sklearn.linear_model import LogisticRegression\n",
    "lr = LogisticRegression(random_state = 0)\n",
    "lr.fit(X_scale, y)\n",
    "\n",
    "scale_logreg_score = mean(get_score(lr, X_scale, y))\n",
    "print(scale_logreg_score)"
   ]
  },
  {
   "cell_type": "code",
   "execution_count": 249,
   "id": "e6b65f7d-025d-4acb-b81c-83391e605289",
   "metadata": {},
   "outputs": [
    {
     "name": "stdout",
     "output_type": "stream",
     "text": [
      "0.6056049667216648\n"
     ]
    }
   ],
   "source": [
    "from sklearn.linear_model import LogisticRegression\n",
    "lr = LogisticRegression(random_state = 0)\n",
    "lr.fit(X_norm, y)\n",
    "\n",
    "norm_logreg_score = mean(get_score(lr, X_norm, y))\n",
    "print(norm_logreg_score)"
   ]
  },
  {
   "cell_type": "markdown",
   "id": "dfe54830-aa28-48b1-a49a-10f6eae9b135",
   "metadata": {},
   "source": [
    "### Decision Tree"
   ]
  },
  {
   "cell_type": "code",
   "execution_count": 158,
   "id": "c10bd113-746b-4e8c-9657-580a2992cc78",
   "metadata": {},
   "outputs": [
    {
     "name": "stdout",
     "output_type": "stream",
     "text": [
      "0.6321141459006742\n"
     ]
    }
   ],
   "source": [
    "dt = DecisionTreeClassifier(random_state = 0)\n",
    "dt.fit(X, y)\n",
    "\n",
    "dt_score = mean(get_score(dt, X, y))\n",
    "print(dt_score)"
   ]
  },
  {
   "cell_type": "code",
   "execution_count": 114,
   "id": "723c6e7d-ea32-4c91-9839-3906161d6a80",
   "metadata": {},
   "outputs": [
    {
     "data": {
      "text/plain": [
       "(825, 3128)"
      ]
     },
     "execution_count": 114,
     "metadata": {},
     "output_type": "execute_result"
    }
   ],
   "source": [
    "dt.get_n_leaves(), len(X)"
   ]
  },
  {
   "cell_type": "code",
   "execution_count": 165,
   "id": "84969a28-1e81-4902-aadb-93b1a66e7791",
   "metadata": {},
   "outputs": [
    {
     "name": "stdout",
     "output_type": "stream",
     "text": [
      "0.6282740022143144\n"
     ]
    }
   ],
   "source": [
    "# let's add some contrain to our tree to prevent overfitting\n",
    "dt = DecisionTreeClassifier(random_state = 0, min_samples_leaf = 25)\n",
    "dt.fit(X, y)\n",
    "\n",
    "dt_score = mean(get_score(dt, X, y))\n",
    "print(dt_score)"
   ]
  },
  {
   "cell_type": "code",
   "execution_count": 166,
   "id": "e78fa9a2-446e-489c-9e71-434ca83f4764",
   "metadata": {},
   "outputs": [
    {
     "data": {
      "text/plain": [
       "(83, 3128)"
      ]
     },
     "execution_count": 166,
     "metadata": {},
     "output_type": "execute_result"
    }
   ],
   "source": [
    "dt.get_n_leaves(), len(X)"
   ]
  },
  {
   "cell_type": "markdown",
   "id": "ceef4940-4d33-4caa-b059-13cc7bdb88ee",
   "metadata": {},
   "source": [
    "#### Feature Importance\n",
    "Feature importance will give a good idea of which features are most useful to the tree when splitting the node to get a better perfomance."
   ]
  },
  {
   "cell_type": "code",
   "execution_count": 167,
   "id": "5a5b5f33-7a61-4c57-a58f-876c4be489ad",
   "metadata": {},
   "outputs": [],
   "source": [
    "def feat_importance(m, df):\n",
    "    return pd.DataFrame({'cols':df.columns, 'imp':m.feature_importances_}\n",
    "                       ).sort_values('imp', ascending=False)"
   ]
  },
  {
   "cell_type": "code",
   "execution_count": 168,
   "id": "95ab340c-4e88-4a9e-ad89-a0cfeaeb6188",
   "metadata": {},
   "outputs": [
    {
     "data": {
      "text/html": [
       "<div>\n",
       "<style scoped>\n",
       "    .dataframe tbody tr th:only-of-type {\n",
       "        vertical-align: middle;\n",
       "    }\n",
       "\n",
       "    .dataframe tbody tr th {\n",
       "        vertical-align: top;\n",
       "    }\n",
       "\n",
       "    .dataframe thead th {\n",
       "        text-align: right;\n",
       "    }\n",
       "</style>\n",
       "<table border=\"1\" class=\"dataframe\">\n",
       "  <thead>\n",
       "    <tr style=\"text-align: right;\">\n",
       "      <th></th>\n",
       "      <th>cols</th>\n",
       "      <th>imp</th>\n",
       "    </tr>\n",
       "  </thead>\n",
       "  <tbody>\n",
       "    <tr>\n",
       "      <th>6</th>\n",
       "      <td>Theatre_max</td>\n",
       "      <td>0.528387</td>\n",
       "    </tr>\n",
       "    <tr>\n",
       "      <th>5</th>\n",
       "      <td>max_standing</td>\n",
       "      <td>0.241195</td>\n",
       "    </tr>\n",
       "    <tr>\n",
       "      <th>7</th>\n",
       "      <td>Promoted / ticketed events</td>\n",
       "      <td>0.070997</td>\n",
       "    </tr>\n",
       "    <tr>\n",
       "      <th>1</th>\n",
       "      <td>Venue provides alcohol</td>\n",
       "      <td>0.061862</td>\n",
       "    </tr>\n",
       "    <tr>\n",
       "      <th>0</th>\n",
       "      <td>Loud music / events</td>\n",
       "      <td>0.045346</td>\n",
       "    </tr>\n",
       "    <tr>\n",
       "      <th>4</th>\n",
       "      <td>U-Shaped_max</td>\n",
       "      <td>0.041549</td>\n",
       "    </tr>\n",
       "    <tr>\n",
       "      <th>2</th>\n",
       "      <td>Wi-Fi</td>\n",
       "      <td>0.005378</td>\n",
       "    </tr>\n",
       "    <tr>\n",
       "      <th>3</th>\n",
       "      <td>supervenue</td>\n",
       "      <td>0.005286</td>\n",
       "    </tr>\n",
       "  </tbody>\n",
       "</table>\n",
       "</div>"
      ],
      "text/plain": [
       "                         cols       imp\n",
       "6                 Theatre_max  0.528387\n",
       "5                max_standing  0.241195\n",
       "7  Promoted / ticketed events  0.070997\n",
       "1      Venue provides alcohol  0.061862\n",
       "0         Loud music / events  0.045346\n",
       "4                U-Shaped_max  0.041549\n",
       "2                       Wi-Fi  0.005378\n",
       "3                  supervenue  0.005286"
      ]
     },
     "execution_count": 168,
     "metadata": {},
     "output_type": "execute_result"
    }
   ],
   "source": [
    "fi = feat_importance(dt, X)\n",
    "fi[:10]"
   ]
  },
  {
   "cell_type": "code",
   "execution_count": 169,
   "id": "f4cee630-aaf1-4d47-a2c3-f83f153a015b",
   "metadata": {},
   "outputs": [
    {
     "data": {
      "image/png": "[encoded data removed]",
      "text/plain": [
       "<Figure size 864x504 with 1 Axes>"
      ]
     },
     "metadata": {},
     "output_type": "display_data"
    }
   ],
   "source": [
    "def plot_fi(fi):\n",
    "    return fi.plot('cols', 'imp', 'barh', figsize=(12,7), legend=False)\n",
    "\n",
    "plot_fi(fi[:10]);"
   ]
  },
  {
   "cell_type": "code",
   "execution_count": 170,
   "id": "2df6696d-b960-4bd1-8568-19febda22b85",
   "metadata": {},
   "outputs": [],
   "source": [
    "# Let's try removing some of these features that have low importance score as they might no be that relevant in our prediction.\n",
    "to_keep = fi[fi.imp>0.01].cols\n",
    "X_imp_dt = X[to_keep]"
   ]
  },
  {
   "cell_type": "code",
   "execution_count": 235,
   "id": "a7bd83c2-e62f-4086-8172-54f049fa5334",
   "metadata": {},
   "outputs": [
    {
     "name": "stdout",
     "output_type": "stream",
     "text": [
      "0.6281904981143176\n"
     ]
    }
   ],
   "source": [
    "dt_imp = DecisionTreeClassifier(random_state = 0, min_samples_leaf = 25)\n",
    "dt_imp.fit(X_imp_dt, y)\n",
    "\n",
    "dt_score = mean(get_score(dt_imp, X_imp_dt, y))\n",
    "print(dt_score)"
   ]
  },
  {
   "cell_type": "code",
   "execution_count": 234,
   "id": "5a58db53",
   "metadata": {},
   "outputs": [
    {
     "data": {
      "text/html": [
       "<div>\n",
       "<style scoped>\n",
       "    .dataframe tbody tr th:only-of-type {\n",
       "        vertical-align: middle;\n",
       "    }\n",
       "\n",
       "    .dataframe tbody tr th {\n",
       "        vertical-align: top;\n",
       "    }\n",
       "\n",
       "    .dataframe thead th {\n",
       "        text-align: right;\n",
       "    }\n",
       "</style>\n",
       "<table border=\"1\" class=\"dataframe\">\n",
       "  <thead>\n",
       "    <tr style=\"text-align: right;\">\n",
       "      <th></th>\n",
       "      <th>cols</th>\n",
       "      <th>imp</th>\n",
       "    </tr>\n",
       "  </thead>\n",
       "  <tbody>\n",
       "    <tr>\n",
       "      <th>0</th>\n",
       "      <td>Theatre_max</td>\n",
       "      <td>0.532250</td>\n",
       "    </tr>\n",
       "    <tr>\n",
       "      <th>1</th>\n",
       "      <td>max_standing</td>\n",
       "      <td>0.243995</td>\n",
       "    </tr>\n",
       "    <tr>\n",
       "      <th>2</th>\n",
       "      <td>Promoted / ticketed events</td>\n",
       "      <td>0.072290</td>\n",
       "    </tr>\n",
       "    <tr>\n",
       "      <th>3</th>\n",
       "      <td>Venue provides alcohol</td>\n",
       "      <td>0.062989</td>\n",
       "    </tr>\n",
       "    <tr>\n",
       "      <th>4</th>\n",
       "      <td>Loud music / events</td>\n",
       "      <td>0.046171</td>\n",
       "    </tr>\n",
       "    <tr>\n",
       "      <th>5</th>\n",
       "      <td>U-Shaped_max</td>\n",
       "      <td>0.042305</td>\n",
       "    </tr>\n",
       "  </tbody>\n",
       "</table>\n",
       "</div>"
      ],
      "text/plain": [
       "                         cols       imp\n",
       "0                 Theatre_max  0.532250\n",
       "1                max_standing  0.243995\n",
       "2  Promoted / ticketed events  0.072290\n",
       "3      Venue provides alcohol  0.062989\n",
       "4         Loud music / events  0.046171\n",
       "5                U-Shaped_max  0.042305"
      ]
     },
     "execution_count": 234,
     "metadata": {},
     "output_type": "execute_result"
    }
   ],
   "source": [
    "fi = feat_importance(dt_imp, X_imp_dt)\n",
    "fi[:10]"
   ]
  },
  {
   "cell_type": "markdown",
   "id": "ac00ad13-1687-41ea-8d1a-c78180834d9a",
   "metadata": {},
   "source": [
    "### Random Forest Classifier"
   ]
  },
  {
   "cell_type": "code",
   "execution_count": 175,
   "id": "d900a75a-9757-48ee-89b4-9ae3620e2894",
   "metadata": {},
   "outputs": [],
   "source": [
    "from sklearn.ensemble import RandomForestClassifier"
   ]
  },
  {
   "cell_type": "code",
   "execution_count": 217,
   "id": "8c509b57-91f6-458a-b146-aeb075567e97",
   "metadata": {},
   "outputs": [
    {
     "name": "stdout",
     "output_type": "stream",
     "text": [
      "0.6546381919484513\n"
     ]
    }
   ],
   "source": [
    "rf = RandomForestClassifier(n_estimators = 500, min_samples_leaf = 0.1, random_state = 0)\n",
    "rf.fit(X, y)\n",
    "\n",
    "rf_score = mean(get_score(rf, X, y))\n",
    "print(rf_score)"
   ]
  },
  {
   "cell_type": "code",
   "execution_count": 218,
   "id": "c7f5b04c-b2b9-4d6f-b4d3-2133c4d25d6e",
   "metadata": {},
   "outputs": [
    {
     "data": {
      "text/html": [
       "<div>\n",
       "<style scoped>\n",
       "    .dataframe tbody tr th:only-of-type {\n",
       "        vertical-align: middle;\n",
       "    }\n",
       "\n",
       "    .dataframe tbody tr th {\n",
       "        vertical-align: top;\n",
       "    }\n",
       "\n",
       "    .dataframe thead th {\n",
       "        text-align: right;\n",
       "    }\n",
       "</style>\n",
       "<table border=\"1\" class=\"dataframe\">\n",
       "  <thead>\n",
       "    <tr style=\"text-align: right;\">\n",
       "      <th></th>\n",
       "      <th>cols</th>\n",
       "      <th>imp</th>\n",
       "    </tr>\n",
       "  </thead>\n",
       "  <tbody>\n",
       "    <tr>\n",
       "      <th>5</th>\n",
       "      <td>max_standing</td>\n",
       "      <td>0.289665</td>\n",
       "    </tr>\n",
       "    <tr>\n",
       "      <th>6</th>\n",
       "      <td>Theatre_max</td>\n",
       "      <td>0.217849</td>\n",
       "    </tr>\n",
       "    <tr>\n",
       "      <th>7</th>\n",
       "      <td>Promoted / ticketed events</td>\n",
       "      <td>0.212952</td>\n",
       "    </tr>\n",
       "    <tr>\n",
       "      <th>1</th>\n",
       "      <td>Venue provides alcohol</td>\n",
       "      <td>0.174762</td>\n",
       "    </tr>\n",
       "    <tr>\n",
       "      <th>4</th>\n",
       "      <td>U-Shaped_max</td>\n",
       "      <td>0.067801</td>\n",
       "    </tr>\n",
       "    <tr>\n",
       "      <th>0</th>\n",
       "      <td>Loud music / events</td>\n",
       "      <td>0.036971</td>\n",
       "    </tr>\n",
       "    <tr>\n",
       "      <th>2</th>\n",
       "      <td>Wi-Fi</td>\n",
       "      <td>0.000000</td>\n",
       "    </tr>\n",
       "    <tr>\n",
       "      <th>3</th>\n",
       "      <td>supervenue</td>\n",
       "      <td>0.000000</td>\n",
       "    </tr>\n",
       "  </tbody>\n",
       "</table>\n",
       "</div>"
      ],
      "text/plain": [
       "                         cols       imp\n",
       "5                max_standing  0.289665\n",
       "6                 Theatre_max  0.217849\n",
       "7  Promoted / ticketed events  0.212952\n",
       "1      Venue provides alcohol  0.174762\n",
       "4                U-Shaped_max  0.067801\n",
       "0         Loud music / events  0.036971\n",
       "2                       Wi-Fi  0.000000\n",
       "3                  supervenue  0.000000"
      ]
     },
     "execution_count": 218,
     "metadata": {},
     "output_type": "execute_result"
    }
   ],
   "source": [
    "rf_fi = feat_importance(rf, X)\n",
    "rf_fi[:10]"
   ]
  },
  {
   "cell_type": "markdown",
   "id": "fa01efe2",
   "metadata": {},
   "source": [
    "Let's remove `Wi-Fi` and `supervenue` since they have no contribution to the random forest."
   ]
  },
  {
   "cell_type": "code",
   "execution_count": 223,
   "id": "6e2d78aa",
   "metadata": {},
   "outputs": [],
   "source": [
    "rf_to_keep = rf_fi[rf_fi.imp>0.05].cols\n",
    "X_imp_rf = X[rf_to_keep]"
   ]
  },
  {
   "cell_type": "code",
   "execution_count": 224,
   "id": "44ef85e5",
   "metadata": {},
   "outputs": [
    {
     "name": "stdout",
     "output_type": "stream",
     "text": [
      "0.6544656788642284\n"
     ]
    }
   ],
   "source": [
    "rf_imp = RandomForestClassifier(n_estimators = 500, min_samples_leaf = 0.1, random_state = 0)\n",
    "rf_imp.fit(X_imp_rf, y)\n",
    "\n",
    "rf_score = mean(get_score(rf_imp, X_imp_rf, y))\n",
    "print(rf_score)"
   ]
  },
  {
   "cell_type": "code",
   "execution_count": 225,
   "id": "96d21ab0",
   "metadata": {},
   "outputs": [
    {
     "data": {
      "text/html": [
       "<div>\n",
       "<style scoped>\n",
       "    .dataframe tbody tr th:only-of-type {\n",
       "        vertical-align: middle;\n",
       "    }\n",
       "\n",
       "    .dataframe tbody tr th {\n",
       "        vertical-align: top;\n",
       "    }\n",
       "\n",
       "    .dataframe thead th {\n",
       "        text-align: right;\n",
       "    }\n",
       "</style>\n",
       "<table border=\"1\" class=\"dataframe\">\n",
       "  <thead>\n",
       "    <tr style=\"text-align: right;\">\n",
       "      <th></th>\n",
       "      <th>cols</th>\n",
       "      <th>imp</th>\n",
       "    </tr>\n",
       "  </thead>\n",
       "  <tbody>\n",
       "    <tr>\n",
       "      <th>0</th>\n",
       "      <td>max_standing</td>\n",
       "      <td>0.374165</td>\n",
       "    </tr>\n",
       "    <tr>\n",
       "      <th>1</th>\n",
       "      <td>Theatre_max</td>\n",
       "      <td>0.316416</td>\n",
       "    </tr>\n",
       "    <tr>\n",
       "      <th>2</th>\n",
       "      <td>Promoted / ticketed events</td>\n",
       "      <td>0.180078</td>\n",
       "    </tr>\n",
       "    <tr>\n",
       "      <th>3</th>\n",
       "      <td>Venue provides alcohol</td>\n",
       "      <td>0.129341</td>\n",
       "    </tr>\n",
       "  </tbody>\n",
       "</table>\n",
       "</div>"
      ],
      "text/plain": [
       "                         cols       imp\n",
       "0                max_standing  0.374165\n",
       "1                 Theatre_max  0.316416\n",
       "2  Promoted / ticketed events  0.180078\n",
       "3      Venue provides alcohol  0.129341"
      ]
     },
     "execution_count": 225,
     "metadata": {},
     "output_type": "execute_result"
    }
   ],
   "source": [
    "rf_fi = feat_importance(rf_imp, X_imp_rf)\n",
    "rf_fi[:10]"
   ]
  },
  {
   "cell_type": "markdown",
   "id": "743accdb-733e-4554-8b73-08f215756980",
   "metadata": {},
   "source": [
    "### Boosting"
   ]
  },
  {
   "cell_type": "code",
   "execution_count": 226,
   "id": "e4b3389a-e151-4da1-8b70-e309418a3884",
   "metadata": {},
   "outputs": [
    {
     "name": "stdout",
     "output_type": "stream",
     "text": [
      "0.6279814689432012\n"
     ]
    }
   ],
   "source": [
    "# AdaBoost\n",
    "from sklearn.ensemble import AdaBoostClassifier\n",
    "adb = AdaBoostClassifier(base_estimator = dt, n_estimators = 400, random_state = 0)\n",
    "\n",
    "ab_score = mean(get_score(adb, X, y))\n",
    "print(ab_score)"
   ]
  },
  {
   "cell_type": "code",
   "execution_count": 227,
   "id": "e7bfb069-a08c-409a-b60f-59a58f286948",
   "metadata": {},
   "outputs": [
    {
     "name": "stdout",
     "output_type": "stream",
     "text": [
      "0.638820254532681\n"
     ]
    }
   ],
   "source": [
    "# Gradient Boosting Classifier\n",
    "from sklearn.ensemble import GradientBoostingClassifier\n",
    "gbc = GradientBoostingClassifier(n_estimators = 400, random_state = 0)\n",
    "\n",
    "gb_score = mean(get_score(gbc, X, y))\n",
    "print(gb_score)"
   ]
  },
  {
   "cell_type": "code",
   "execution_count": 231,
   "id": "afff36fc-6932-48a7-944c-9e98be0734a5",
   "metadata": {
    "scrolled": true
   },
   "outputs": [
    {
     "name": "stdout",
     "output_type": "stream",
     "text": [
      "0.6410017296544348\n"
     ]
    }
   ],
   "source": [
    "# Schochastic Gradient Boosting\n",
    "sgbt = GradientBoostingClassifier(n_estimators = 400, subsample = 0.8, max_features = 0.2, random_state = 0)\n",
    "sgbt.fit(X, y)\n",
    "\n",
    "sgb_score = mean(get_score(sgbt, X, y))\n",
    "print(sgb_score)"
   ]
  },
  {
   "cell_type": "code",
   "execution_count": 229,
   "id": "ab4226eb-75c1-486e-89bc-4273b2241ae1",
   "metadata": {},
   "outputs": [
    {
     "data": {
      "text/html": [
       "<div>\n",
       "<style scoped>\n",
       "    .dataframe tbody tr th:only-of-type {\n",
       "        vertical-align: middle;\n",
       "    }\n",
       "\n",
       "    .dataframe tbody tr th {\n",
       "        vertical-align: top;\n",
       "    }\n",
       "\n",
       "    .dataframe thead th {\n",
       "        text-align: right;\n",
       "    }\n",
       "</style>\n",
       "<table border=\"1\" class=\"dataframe\">\n",
       "  <thead>\n",
       "    <tr style=\"text-align: right;\">\n",
       "      <th></th>\n",
       "      <th>cols</th>\n",
       "      <th>imp</th>\n",
       "    </tr>\n",
       "  </thead>\n",
       "  <tbody>\n",
       "    <tr>\n",
       "      <th>6</th>\n",
       "      <td>Theatre_max</td>\n",
       "      <td>0.329313</td>\n",
       "    </tr>\n",
       "    <tr>\n",
       "      <th>5</th>\n",
       "      <td>max_standing</td>\n",
       "      <td>0.257683</td>\n",
       "    </tr>\n",
       "    <tr>\n",
       "      <th>4</th>\n",
       "      <td>U-Shaped_max</td>\n",
       "      <td>0.164669</td>\n",
       "    </tr>\n",
       "    <tr>\n",
       "      <th>7</th>\n",
       "      <td>Promoted / ticketed events</td>\n",
       "      <td>0.083803</td>\n",
       "    </tr>\n",
       "    <tr>\n",
       "      <th>1</th>\n",
       "      <td>Venue provides alcohol</td>\n",
       "      <td>0.065942</td>\n",
       "    </tr>\n",
       "    <tr>\n",
       "      <th>3</th>\n",
       "      <td>supervenue</td>\n",
       "      <td>0.036859</td>\n",
       "    </tr>\n",
       "    <tr>\n",
       "      <th>2</th>\n",
       "      <td>Wi-Fi</td>\n",
       "      <td>0.033934</td>\n",
       "    </tr>\n",
       "    <tr>\n",
       "      <th>0</th>\n",
       "      <td>Loud music / events</td>\n",
       "      <td>0.027796</td>\n",
       "    </tr>\n",
       "  </tbody>\n",
       "</table>\n",
       "</div>"
      ],
      "text/plain": [
       "                         cols       imp\n",
       "6                 Theatre_max  0.329313\n",
       "5                max_standing  0.257683\n",
       "4                U-Shaped_max  0.164669\n",
       "7  Promoted / ticketed events  0.083803\n",
       "1      Venue provides alcohol  0.065942\n",
       "3                  supervenue  0.036859\n",
       "2                       Wi-Fi  0.033934\n",
       "0         Loud music / events  0.027796"
      ]
     },
     "execution_count": 229,
     "metadata": {},
     "output_type": "execute_result"
    }
   ],
   "source": [
    "fi = feat_importance(sgbt, X)\n",
    "fi[:10]"
   ]
  },
  {
   "cell_type": "markdown",
   "id": "5a4c11d6-5208-4553-86f6-8617dae71a28",
   "metadata": {},
   "source": [
    "It seems that all of the features are relevant when using gradient boosting so we won't remove any feature like we did in our decision tree and random forest classifier as it will only lower the performance"
   ]
  },
  {
   "cell_type": "markdown",
   "id": "77aed942-b131-4071-9b2c-7e5165f9dab1",
   "metadata": {},
   "source": [
    "### KNN"
   ]
  },
  {
   "cell_type": "code",
   "execution_count": 131,
   "id": "20e65bbe-89d3-4be7-b3e6-a72eca297c1b",
   "metadata": {},
   "outputs": [
    {
     "name": "stdout",
     "output_type": "stream",
     "text": [
      "0.6131716293929713\n"
     ]
    }
   ],
   "source": [
    "from sklearn.neighbors import KNeighborsClassifier\n",
    "knn = KNeighborsClassifier(n_neighbors = 5)\n",
    "\n",
    "knn_score = mean(get_score(knn, X, y))\n",
    "print(knn_score)"
   ]
  },
  {
   "cell_type": "code",
   "execution_count": 211,
   "id": "55482adf-e7ab-48e0-8ddc-b702575d7d37",
   "metadata": {},
   "outputs": [
    {
     "name": "stdout",
     "output_type": "stream",
     "text": [
      "0.6327969183534807\n"
     ]
    }
   ],
   "source": [
    "from sklearn.neighbors import KNeighborsClassifier\n",
    "knn = KNeighborsClassifier(n_neighbors = 5)\n",
    "\n",
    "scale_knn_score = mean(get_score(knn, X_scale, y))\n",
    "print(scale_knn_score)"
   ]
  },
  {
   "cell_type": "code",
   "execution_count": 212,
   "id": "ecb0cf7d-a5ac-4501-a629-d60aa6fd63da",
   "metadata": {},
   "outputs": [
    {
     "name": "stdout",
     "output_type": "stream",
     "text": [
      "0.6317485643334988\n"
     ]
    }
   ],
   "source": [
    "from sklearn.neighbors import KNeighborsClassifier\n",
    "knn = KNeighborsClassifier(n_neighbors = 5)\n",
    "\n",
    "norm_knn_score = mean(get_score(knn, X_norm, y))\n",
    "print(norm_knn_score)"
   ]
  },
  {
   "cell_type": "markdown",
   "id": "ddb8e7ba-a590-4b9e-b15c-719f42cecb36",
   "metadata": {},
   "source": [
    "### SVM"
   ]
  },
  {
   "cell_type": "code",
   "execution_count": 213,
   "id": "afe119d5-c505-4a60-a5b0-8b599f2ee4c6",
   "metadata": {},
   "outputs": [
    {
     "name": "stdout",
     "output_type": "stream",
     "text": [
      "0.6269802103034781\n"
     ]
    }
   ],
   "source": [
    "from sklearn.svm import SVC, LinearSVC\n",
    "svc = SVC(random_state = 0)\n",
    "\n",
    "svc_score = mean(get_score(svc, X, y))\n",
    "print(svc_score)"
   ]
  },
  {
   "cell_type": "code",
   "execution_count": 214,
   "id": "d6dd9c96-8934-4263-bd29-daf9f1974dd8",
   "metadata": {},
   "outputs": [
    {
     "name": "stdout",
     "output_type": "stream",
     "text": [
      "0.6180157484965274\n"
     ]
    }
   ],
   "source": [
    "from sklearn.svm import SVC, LinearSVC\n",
    "svc = SVC(random_state = 0)\n",
    "\n",
    "scale_svc_score = mean(get_score(svc, X_scale, y))\n",
    "print(scale_svc_score)"
   ]
  },
  {
   "cell_type": "code",
   "execution_count": 215,
   "id": "4d090aa6-308f-4560-ad54-a531b2d8c77a",
   "metadata": {},
   "outputs": [
    {
     "name": "stdout",
     "output_type": "stream",
     "text": [
      "0.6227870276502987\n"
     ]
    }
   ],
   "source": [
    "from sklearn.svm import SVC, LinearSVC\n",
    "svc = SVC(random_state = 0)\n",
    "\n",
    "norm_svc_score = mean(get_score(svc, X_norm, y))\n",
    "print(norm_svc_score)"
   ]
  },
  {
   "cell_type": "code",
   "execution_count": 232,
   "id": "db6c2917-e650-4ec4-a3b8-ea0bdf176c77",
   "metadata": {},
   "outputs": [
    {
     "data": {
      "text/html": [
       "<div>\n",
       "<style scoped>\n",
       "    .dataframe tbody tr th:only-of-type {\n",
       "        vertical-align: middle;\n",
       "    }\n",
       "\n",
       "    .dataframe tbody tr th {\n",
       "        vertical-align: top;\n",
       "    }\n",
       "\n",
       "    .dataframe thead th {\n",
       "        text-align: right;\n",
       "    }\n",
       "</style>\n",
       "<table border=\"1\" class=\"dataframe\">\n",
       "  <thead>\n",
       "    <tr style=\"text-align: right;\">\n",
       "      <th></th>\n",
       "      <th>Model</th>\n",
       "      <th>Score</th>\n",
       "    </tr>\n",
       "  </thead>\n",
       "  <tbody>\n",
       "    <tr>\n",
       "      <th>2</th>\n",
       "      <td>Random Forest</td>\n",
       "      <td>0.654466</td>\n",
       "    </tr>\n",
       "    <tr>\n",
       "      <th>5</th>\n",
       "      <td>Stochastic Gradient Boosting</td>\n",
       "      <td>0.641002</td>\n",
       "    </tr>\n",
       "    <tr>\n",
       "      <th>4</th>\n",
       "      <td>Gradient Boosting</td>\n",
       "      <td>0.638820</td>\n",
       "    </tr>\n",
       "    <tr>\n",
       "      <th>6</th>\n",
       "      <td>Scaled KNN</td>\n",
       "      <td>0.632797</td>\n",
       "    </tr>\n",
       "    <tr>\n",
       "      <th>1</th>\n",
       "      <td>Decision Tree</td>\n",
       "      <td>0.628190</td>\n",
       "    </tr>\n",
       "    <tr>\n",
       "      <th>3</th>\n",
       "      <td>Ada Boost</td>\n",
       "      <td>0.627981</td>\n",
       "    </tr>\n",
       "    <tr>\n",
       "      <th>7</th>\n",
       "      <td>SVM</td>\n",
       "      <td>0.626980</td>\n",
       "    </tr>\n",
       "    <tr>\n",
       "      <th>0</th>\n",
       "      <td>Logistic Regression</td>\n",
       "      <td>0.608409</td>\n",
       "    </tr>\n",
       "  </tbody>\n",
       "</table>\n",
       "</div>"
      ],
      "text/plain": [
       "                          Model     Score\n",
       "2                 Random Forest  0.654466\n",
       "5  Stochastic Gradient Boosting  0.641002\n",
       "4             Gradient Boosting  0.638820\n",
       "6                    Scaled KNN  0.632797\n",
       "1                 Decision Tree  0.628190\n",
       "3                     Ada Boost  0.627981\n",
       "7                           SVM  0.626980\n",
       "0           Logistic Regression  0.608409"
      ]
     },
     "execution_count": 232,
     "metadata": {},
     "output_type": "execute_result"
    }
   ],
   "source": [
    "models = pd.DataFrame({\n",
    "    'Model': ['Logistic Regression', 'Decision Tree', 'Random Forest', \n",
    "              'Ada Boost', 'Gradient Boosting', 'Stochastic Gradient Boosting', \n",
    "              'Scaled KNN', 'SVM'],\n",
    "    'Score': [logreg_score, dt_score , rf_score, \n",
    "              ab_score, gb_score, sgb_score, \n",
    "              scale_knn_score, svc_score]})\n",
    "models.sort_values(by='Score', ascending=False)"
   ]
  },
  {
   "cell_type": "markdown",
   "id": "1f41d52a-1d22-47bb-b82e-82ecc0eb76c5",
   "metadata": {},
   "source": [
    "Based on the comparisons we can find that decision tree based models works best for this problem."
   ]
  },
  {
   "cell_type": "markdown",
   "id": "4d87accc-7d9a-4aa2-af41-c9f9a83baafe",
   "metadata": {},
   "source": [
    "## Final Evaluation\n",
    "For the final evaluation I picked the model that yields the highest accuracy during the k-fold cross validation which is our Stochastic Gradient Boosting model."
   ]
  },
  {
   "cell_type": "code",
   "execution_count": 244,
   "id": "d3fb8d87",
   "metadata": {},
   "outputs": [
    {
     "data": {
      "text/html": [
       "<div>\n",
       "<style scoped>\n",
       "    .dataframe tbody tr th:only-of-type {\n",
       "        vertical-align: middle;\n",
       "    }\n",
       "\n",
       "    .dataframe tbody tr th {\n",
       "        vertical-align: top;\n",
       "    }\n",
       "\n",
       "    .dataframe thead th {\n",
       "        text-align: right;\n",
       "    }\n",
       "</style>\n",
       "<table border=\"1\" class=\"dataframe\">\n",
       "  <thead>\n",
       "    <tr style=\"text-align: right;\">\n",
       "      <th></th>\n",
       "      <th>venue_name</th>\n",
       "      <th>Loud music / events</th>\n",
       "      <th>Venue provides alcohol</th>\n",
       "      <th>Wi-Fi</th>\n",
       "      <th>supervenue</th>\n",
       "      <th>U-Shaped_max</th>\n",
       "      <th>max_standing</th>\n",
       "      <th>Theatre_max</th>\n",
       "      <th>Promoted / ticketed events</th>\n",
       "      <th>Wheelchair accessible</th>\n",
       "    </tr>\n",
       "  </thead>\n",
       "  <tbody>\n",
       "    <tr>\n",
       "      <th>3538</th>\n",
       "      <td>the great hall and chambers leyton</td>\n",
       "      <td>False</td>\n",
       "      <td>1</td>\n",
       "      <td>False</td>\n",
       "      <td>False</td>\n",
       "      <td>35.045455</td>\n",
       "      <td>80</td>\n",
       "      <td>112.715867</td>\n",
       "      <td>False</td>\n",
       "      <td>True</td>\n",
       "    </tr>\n",
       "    <tr>\n",
       "      <th>192</th>\n",
       "      <td>dock street studios</td>\n",
       "      <td>True</td>\n",
       "      <td>0</td>\n",
       "      <td>False</td>\n",
       "      <td>False</td>\n",
       "      <td>35.045455</td>\n",
       "      <td>15</td>\n",
       "      <td>112.715867</td>\n",
       "      <td>False</td>\n",
       "      <td>False</td>\n",
       "    </tr>\n",
       "    <tr>\n",
       "      <th>2065</th>\n",
       "      <td>clayton crown hotel</td>\n",
       "      <td>False</td>\n",
       "      <td>1</td>\n",
       "      <td>True</td>\n",
       "      <td>False</td>\n",
       "      <td>80.000000</td>\n",
       "      <td>380</td>\n",
       "      <td>400.000000</td>\n",
       "      <td>False</td>\n",
       "      <td>True</td>\n",
       "    </tr>\n",
       "    <tr>\n",
       "      <th>2490</th>\n",
       "      <td>techspace aldgate east</td>\n",
       "      <td>False</td>\n",
       "      <td>0</td>\n",
       "      <td>True</td>\n",
       "      <td>False</td>\n",
       "      <td>35.045455</td>\n",
       "      <td>0</td>\n",
       "      <td>112.715867</td>\n",
       "      <td>False</td>\n",
       "      <td>True</td>\n",
       "    </tr>\n",
       "    <tr>\n",
       "      <th>598</th>\n",
       "      <td>the long acre</td>\n",
       "      <td>True</td>\n",
       "      <td>1</td>\n",
       "      <td>True</td>\n",
       "      <td>False</td>\n",
       "      <td>35.045455</td>\n",
       "      <td>200</td>\n",
       "      <td>112.715867</td>\n",
       "      <td>False</td>\n",
       "      <td>False</td>\n",
       "    </tr>\n",
       "    <tr>\n",
       "      <th>...</th>\n",
       "      <td>...</td>\n",
       "      <td>...</td>\n",
       "      <td>...</td>\n",
       "      <td>...</td>\n",
       "      <td>...</td>\n",
       "      <td>...</td>\n",
       "      <td>...</td>\n",
       "      <td>...</td>\n",
       "      <td>...</td>\n",
       "      <td>...</td>\n",
       "    </tr>\n",
       "    <tr>\n",
       "      <th>3820</th>\n",
       "      <td>radisson blu edwardian heathrow</td>\n",
       "      <td>True</td>\n",
       "      <td>1</td>\n",
       "      <td>True</td>\n",
       "      <td>False</td>\n",
       "      <td>28.000000</td>\n",
       "      <td>0</td>\n",
       "      <td>60.000000</td>\n",
       "      <td>True</td>\n",
       "      <td>True</td>\n",
       "    </tr>\n",
       "    <tr>\n",
       "      <th>1281</th>\n",
       "      <td>gaucho piccadilly</td>\n",
       "      <td>False</td>\n",
       "      <td>1</td>\n",
       "      <td>True</td>\n",
       "      <td>False</td>\n",
       "      <td>35.045455</td>\n",
       "      <td>30</td>\n",
       "      <td>112.715867</td>\n",
       "      <td>False</td>\n",
       "      <td>False</td>\n",
       "    </tr>\n",
       "    <tr>\n",
       "      <th>779</th>\n",
       "      <td>inamo covent garden</td>\n",
       "      <td>False</td>\n",
       "      <td>1</td>\n",
       "      <td>True</td>\n",
       "      <td>False</td>\n",
       "      <td>35.045455</td>\n",
       "      <td>70</td>\n",
       "      <td>112.715867</td>\n",
       "      <td>False</td>\n",
       "      <td>False</td>\n",
       "    </tr>\n",
       "    <tr>\n",
       "      <th>3322</th>\n",
       "      <td>it london</td>\n",
       "      <td>False</td>\n",
       "      <td>1</td>\n",
       "      <td>True</td>\n",
       "      <td>False</td>\n",
       "      <td>35.045455</td>\n",
       "      <td>0</td>\n",
       "      <td>112.715867</td>\n",
       "      <td>False</td>\n",
       "      <td>True</td>\n",
       "    </tr>\n",
       "    <tr>\n",
       "      <th>2192</th>\n",
       "      <td>west london venues - ealing site</td>\n",
       "      <td>False</td>\n",
       "      <td>1</td>\n",
       "      <td>True</td>\n",
       "      <td>False</td>\n",
       "      <td>35.045455</td>\n",
       "      <td>100</td>\n",
       "      <td>112.715867</td>\n",
       "      <td>True</td>\n",
       "      <td>True</td>\n",
       "    </tr>\n",
       "  </tbody>\n",
       "</table>\n",
       "<p>782 rows × 10 columns</p>\n",
       "</div>"
      ],
      "text/plain": [
       "                              venue_name  Loud music / events  \\\n",
       "3538  the great hall and chambers leyton                False   \n",
       "192                  dock street studios                 True   \n",
       "2065                 clayton crown hotel                False   \n",
       "2490              techspace aldgate east                False   \n",
       "598                        the long acre                 True   \n",
       "...                                  ...                  ...   \n",
       "3820     radisson blu edwardian heathrow                 True   \n",
       "1281                   gaucho piccadilly                False   \n",
       "779                  inamo covent garden                False   \n",
       "3322                           it london                False   \n",
       "2192    west london venues - ealing site                False   \n",
       "\n",
       "      Venue provides alcohol  Wi-Fi  supervenue  U-Shaped_max  max_standing  \\\n",
       "3538                       1  False       False     35.045455            80   \n",
       "192                        0  False       False     35.045455            15   \n",
       "2065                       1   True       False     80.000000           380   \n",
       "2490                       0   True       False     35.045455             0   \n",
       "598                        1   True       False     35.045455           200   \n",
       "...                      ...    ...         ...           ...           ...   \n",
       "3820                       1   True       False     28.000000             0   \n",
       "1281                       1   True       False     35.045455            30   \n",
       "779                        1   True       False     35.045455            70   \n",
       "3322                       1   True       False     35.045455             0   \n",
       "2192                       1   True       False     35.045455           100   \n",
       "\n",
       "      Theatre_max  Promoted / ticketed events  Wheelchair accessible  \n",
       "3538   112.715867                       False                   True  \n",
       "192    112.715867                       False                  False  \n",
       "2065   400.000000                       False                   True  \n",
       "2490   112.715867                       False                   True  \n",
       "598    112.715867                       False                  False  \n",
       "...           ...                         ...                    ...  \n",
       "3820    60.000000                        True                   True  \n",
       "1281   112.715867                       False                  False  \n",
       "779    112.715867                       False                  False  \n",
       "3322   112.715867                       False                   True  \n",
       "2192   112.715867                        True                   True  \n",
       "\n",
       "[782 rows x 10 columns]"
      ]
     },
     "execution_count": 244,
     "metadata": {},
     "output_type": "execute_result"
    }
   ],
   "source": [
    "df_test"
   ]
  },
  {
   "cell_type": "code",
   "execution_count": 256,
   "id": "fc6e1316-1de7-4aaf-aa23-e59688d901de",
   "metadata": {},
   "outputs": [],
   "source": [
    "X_test = df_test[rf_to_keep]\n",
    "y_test = df_test[target].replace({False: 1, True: 0})"
   ]
  },
  {
   "cell_type": "code",
   "execution_count": 259,
   "id": "7347b3c5-eb64-4cb6-b81a-62558ecd3299",
   "metadata": {},
   "outputs": [
    {
     "data": {
      "text/plain": [
       "0.6356164383561644"
      ]
     },
     "execution_count": 259,
     "metadata": {},
     "output_type": "execute_result"
    }
   ],
   "source": [
    "# Predict our test set using our trained Random Forest model.\n",
    "from sklearn.metrics import accuracy_score\n",
    "from sklearn.metrics import precision_score\n",
    "\n",
    "y_pred = rf_imp.predict(X_test)\n",
    "precision_score(y_test, y_pred)"
   ]
  },
  {
   "cell_type": "markdown",
   "id": "e71e92b7",
   "metadata": {},
   "source": [
    "Amazingly our model achieve a much better accuracy on our test set of 68% compare to its initial 65%."
   ]
  },
  {
   "cell_type": "code",
   "execution_count": 141,
   "id": "0a36d291",
   "metadata": {},
   "outputs": [
    {
     "data": {
      "text/html": [
       "<div>\n",
       "<style scoped>\n",
       "    .dataframe tbody tr th:only-of-type {\n",
       "        vertical-align: middle;\n",
       "    }\n",
       "\n",
       "    .dataframe tbody tr th {\n",
       "        vertical-align: top;\n",
       "    }\n",
       "\n",
       "    .dataframe thead th {\n",
       "        text-align: right;\n",
       "    }\n",
       "</style>\n",
       "<table border=\"1\" class=\"dataframe\">\n",
       "  <thead>\n",
       "    <tr style=\"text-align: right;\">\n",
       "      <th>Predicted</th>\n",
       "      <th>0</th>\n",
       "      <th>1</th>\n",
       "      <th>All</th>\n",
       "    </tr>\n",
       "    <tr>\n",
       "      <th>Actual</th>\n",
       "      <th></th>\n",
       "      <th></th>\n",
       "      <th></th>\n",
       "    </tr>\n",
       "  </thead>\n",
       "  <tbody>\n",
       "    <tr>\n",
       "      <th>0</th>\n",
       "      <td>110</td>\n",
       "      <td>283</td>\n",
       "      <td>393</td>\n",
       "    </tr>\n",
       "    <tr>\n",
       "      <th>1</th>\n",
       "      <td>249</td>\n",
       "      <td>140</td>\n",
       "      <td>389</td>\n",
       "    </tr>\n",
       "    <tr>\n",
       "      <th>All</th>\n",
       "      <td>359</td>\n",
       "      <td>423</td>\n",
       "      <td>782</td>\n",
       "    </tr>\n",
       "  </tbody>\n",
       "</table>\n",
       "</div>"
      ],
      "text/plain": [
       "Predicted    0    1  All\n",
       "Actual                  \n",
       "0          110  283  393\n",
       "1          249  140  389\n",
       "All        359  423  782"
      ]
     },
     "execution_count": 141,
     "metadata": {},
     "output_type": "execute_result"
    }
   ],
   "source": [
    "pd.crosstab(y_test, y_pred, rownames = ['Actual'], colnames =['Predicted'], margins = True)"
   ]
  },
  {
   "cell_type": "code",
   "execution_count": 260,
   "id": "7f5ff0ad",
   "metadata": {},
   "outputs": [
    {
     "name": "stdout",
     "output_type": "stream",
     "text": [
      "              precision    recall  f1-score   support\n",
      "\n",
      "           0       0.61      0.66      0.64       389\n",
      "           1       0.64      0.59      0.61       393\n",
      "\n",
      "    accuracy                           0.62       782\n",
      "   macro avg       0.62      0.62      0.62       782\n",
      "weighted avg       0.62      0.62      0.62       782\n",
      "\n"
     ]
    }
   ],
   "source": [
    "print(classification_report(y_test, y_pred))"
   ]
  },
  {
   "cell_type": "code",
   "execution_count": 261,
   "id": "8ecb2d55",
   "metadata": {},
   "outputs": [],
   "source": [
    "X_test = df_test.iloc[:, 1:-1]\n",
    "y_test = df_test[target].replace({False: 1, True: 0})"
   ]
  },
  {
   "cell_type": "code",
   "execution_count": 262,
   "id": "ac2e6b5f",
   "metadata": {},
   "outputs": [
    {
     "data": {
      "text/plain": [
       "0.6690307328605201"
      ]
     },
     "execution_count": 262,
     "metadata": {},
     "output_type": "execute_result"
    }
   ],
   "source": [
    "y_pred = sgbt.predict(X_test)\n",
    "precision_score(y_test, y_pred)"
   ]
  },
  {
   "cell_type": "code",
   "execution_count": 263,
   "id": "93710b55",
   "metadata": {},
   "outputs": [
    {
     "name": "stdout",
     "output_type": "stream",
     "text": [
      "              precision    recall  f1-score   support\n",
      "\n",
      "           0       0.69      0.64      0.67       389\n",
      "           1       0.67      0.72      0.69       393\n",
      "\n",
      "    accuracy                           0.68       782\n",
      "   macro avg       0.68      0.68      0.68       782\n",
      "weighted avg       0.68      0.68      0.68       782\n",
      "\n"
     ]
    }
   ],
   "source": [
    "print(classification_report(y_test, y_pred))"
   ]
  },
  {
   "cell_type": "markdown",
   "id": "f5bf0652-8934-459f-98a5-ad6f7efc3837",
   "metadata": {},
   "source": [
    "## Outcome"
   ]
  },
  {
   "cell_type": "markdown",
   "id": "1abc5aab-f830-4f60-b9b8-2109f529c2c3",
   "metadata": {},
   "source": [
    "- In conclusion we found out that features related to the capacity of the venue like `Theatre_max`, `max_standing`, and `U-Shaped_max` are an important predictor to determining whether a venue is wheelchair accessible, more importantly the larger the capacity the more likely they are to be wheelchair accessible. My hypothesis is that these venue that are larger must've have more budget and funding behind them, as such they are likely to be more well prepared and are able to afford wheelchair ramps to accomodate those with disability. Another feature that are also an important predictor is `promoted/ticketed` events which make sense since venue that host promoted/ticketed event would want to appease to all sort of audience in order to boost their income.\n",
    "\n",
    "- After trying out different models I found out that decision tree based models works best to create a model that can predict whether or not a venue are wheel chair accessible. For the final evaluation I picked the model that yield the highest accuracy on the 5-Fold Cross validation (65%) which is Stochastic Gradient Boosting classifier. After I evaluate it on the unseen test set the model did a good job and yielded an accuracy of 68%, this proves that the model doesn't only have high performance on the dataset its train on but also on new unseen dataset which simulate real life application. \n",
    "\n",
    "- The evaluation on the test set also shows that our model have successfully achieve the ideal requirement of this project which is to correctly predict two-thirds of the venue as wheelchair accessible or not."
   ]
  },
  {
   "cell_type": "markdown",
   "id": "cb4aed63-9f60-4a36-9acf-fcb0919d8c31",
   "metadata": {},
   "source": [
    "## Future Works\n",
    "- Due to the limited time I am unable to perform hyperparameter tuning on these model, for future work it is advised to focus on the decision tree based model (Decision Tree, Random Forest, AdaBoost, Gradient Boosting) and try out different hyperparameter to increase its performance.\n",
    "- It is possible that some feature engineering on features that are related with the capacity of the venue like `Theatre_max`, `max_standing`, and `U-Shaped_max` might improve the performance of gradient descent based model (Logistic Regression) and distance based model (KNN) as they might be affected by multicollinearity.\n",
    "- Another important aspect that is still missing form my analysis is the evaluation of the model that focuses on metrics that prioritize precision, since it is stated in the beginning that it is a waste of time and will make company look bad to contact company that already have wheelchair ramps installed. Model that prioritize precision means that it's okay if we are unable to identify all the venue that doesn't have a wheel chair but when we do we want to be very confident that they actually don't have wheelchair ramps installed."
   ]
  }
 ],
 "metadata": {
  "colab": {
   "name": "Welcome to DataCamp Workspaces.ipynb",
   "provenance": []
  },
  "kernelspec": {
   "display_name": "Python 3",
   "language": "python",
   "name": "python3"
  },
  "language_info": {
   "codemirror_mode": {
    "name": "ipython",
    "version": 3
   },
   "file_extension": ".py",
   "mimetype": "text/x-python",
   "name": "python",
   "nbconvert_exporter": "python",
   "pygments_lexer": "ipython3",
   "version": "3.8.8"
  }
 },
 "nbformat": 4,
 "nbformat_minor": 5
}
